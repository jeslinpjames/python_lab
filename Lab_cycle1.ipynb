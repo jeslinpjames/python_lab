{
  "nbformat": 4,
  "nbformat_minor": 0,
  "metadata": {
    "colab": {
      "provenance": [],
      "authorship_tag": "ABX9TyOrJYky1quzdqHWCy5CpfZQ",
      "include_colab_link": true
    },
    "kernelspec": {
      "name": "python3",
      "display_name": "Python 3"
    },
    "language_info": {
      "name": "python"
    }
  },
  "cells": [
    {
      "cell_type": "markdown",
      "metadata": {
        "id": "view-in-github",
        "colab_type": "text"
      },
      "source": [
        "<a href=\"https://colab.research.google.com/github/jeslinpjames/python_lab/blob/main/Lab_cycle1.ipynb\" target=\"_parent\"><img src=\"https://colab.research.google.com/assets/colab-badge.svg\" alt=\"Open In Colab\"/></a>"
      ]
    },
    {
      "cell_type": "markdown",
      "source": [
        "**QUESTION 1**"
      ],
      "metadata": {
        "id": "CE2p9X63jxdA"
      }
    },
    {
      "cell_type": "code",
      "execution_count": null,
      "metadata": {
        "id": "d4sV2q4LKnGg",
        "colab": {
          "base_uri": "https://localhost:8080/"
        },
        "outputId": "beacd0b6-876e-4f4d-e1f0-83f1a33d22e2"
      },
      "outputs": [
        {
          "output_type": "stream",
          "name": "stdout",
          "text": [
            "Enter a 4 digit number:1565\n",
            "The Sum of Digits= 17\n",
            "The Reverse of the number= 5651\n",
            "The diffrence of product of even and odd numbers= 19\n"
          ]
        }
      ],
      "source": [
        "def sum( n):\n",
        "  s=0\n",
        "  while(n>0):\n",
        "    r=n%10;\n",
        "    s=s+r\n",
        "    n=n//10\n",
        "  return s"
      ]
    },
    {
      "cell_type": "code",
      "source": [
        "def reverse(n):\n",
        "  s=0\n",
        "  while(n>0):\n",
        "    r=n%10\n",
        "    s=s*10+r\n",
        "    n=n//10\n",
        "  return(s)"
      ],
      "metadata": {
        "id": "bN8zJGvUjfpp"
      },
      "execution_count": null,
      "outputs": []
    },
    {
      "cell_type": "code",
      "source": [
        "def prod(n):\n",
        "  s,a,b=0,1,1\n",
        "  i=1\n",
        "  while(n>0):\n",
        "    r=n%10\n",
        "    if(i%2==0):\n",
        "      b=b*r\n",
        "    else:\n",
        "      a=a*r\n",
        "    i=i+1\n",
        "    n=n//10\n",
        "  s=a-b\n",
        "  return(s)"
      ],
      "metadata": {
        "id": "Yiqo6Wkbj-62"
      },
      "execution_count": null,
      "outputs": []
    },
    {
      "cell_type": "code",
      "source": [
        "n=int(input(\"Enter a 4 digit number:\"))\n",
        "s=sum(n)\n",
        "print(\"The Sum of Digits=\",s)\n",
        "r=reverse(n)\n",
        "print(\"The Reverse of the number=\",r)\n",
        "s1=prod(n)\n",
        "print(\"The diffrence of product of even and odd numbers=\",s1)\n"
      ],
      "metadata": {
        "colab": {
          "base_uri": "https://localhost:8080/"
        },
        "id": "4X3iTPEnksyP",
        "outputId": "ff7dedc5-c639-4437-f87a-8a68a9595a7c"
      },
      "execution_count": null,
      "outputs": [
        {
          "output_type": "stream",
          "name": "stdout",
          "text": [
            "Enter a 4 digit number:1234\n",
            "The Sum of Digits= 10\n",
            "The Reverse of the number= 4321\n",
            "The diffrence of product of even and odd numbers= 5\n"
          ]
        }
      ]
    },
    {
      "cell_type": "markdown",
      "source": [
        "**QUESTION 2**"
      ],
      "metadata": {
        "id": "437m3DrLKoWx"
      }
    },
    {
      "cell_type": "code",
      "source": [
        "def inp():\n",
        "  a=int(input(\"Enter the First side:\"))\n",
        "  b=int(input(\"Enter the Second side:\"))\n",
        "  c=int(input(\"Enter the Third side:\"))\n",
        "  return(a,b,c)\n"
      ],
      "metadata": {
        "id": "wKLyZtPqArej"
      },
      "execution_count": 9,
      "outputs": []
    },
    {
      "cell_type": "code",
      "source": [
        "import math\n",
        "def area(a,b,c):\n",
        "  s=(a+b+c)/2\n",
        "  area=math.sqrt(s*(s-a)*(s-b)*(s-c))\n",
        "  return(area) "
      ],
      "metadata": {
        "id": "4k4oYdoHDVNt"
      },
      "execution_count": 5,
      "outputs": []
    },
    {
      "cell_type": "code",
      "source": [
        "print(\"For the first Triangle:\")\n",
        "a1,b1,c1=inp()\n",
        "print(\"For the second Triangle:\")\n",
        "a2,b2,c2=inp()\n",
        "ar1=area(a1,b1,c1)\n",
        "ar2=area(a2,b2,c2)\n",
        "tot=ar1+ar2\n",
        "print(\"The Total area enclosed by both the trangles =\",tot)\n",
        "p1=(ar1/tot)*100\n",
        "p2=(ar2/tot)*100\n",
        "print(\"The percentage contribution of the first triangle=\",p1)\n",
        "print(\"The percentage contribution of the second triangle=\",p2)"
      ],
      "metadata": {
        "colab": {
          "base_uri": "https://localhost:8080/"
        },
        "id": "9I4J7qFmD5i8",
        "outputId": "12693623-0e3d-4833-ab3d-3b80e4fc5fcb"
      },
      "execution_count": 17,
      "outputs": [
        {
          "output_type": "stream",
          "name": "stdout",
          "text": [
            "For the first Triangle:\n",
            "Enter the First side:3\n",
            "Enter the Second side:3\n",
            "Enter the Third side:4\n",
            "For the second Triangle:\n",
            "Enter the First side:4\n",
            "Enter the Second side:4\n",
            "Enter the Third side:3\n",
            "The Total area enclosed by both the trangles = 10.034284820321327\n",
            "The percentage contribution of the first triangle= 44.568557052941706\n",
            "The percentage contribution of the second triangle= 55.431442947058294\n"
          ]
        }
      ]
    }
  ]
}