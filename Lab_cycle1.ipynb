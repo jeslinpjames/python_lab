{
  "nbformat": 4,
  "nbformat_minor": 0,
  "metadata": {
    "colab": {
      "provenance": [],
      "authorship_tag": "ABX9TyPRcl54jSUC3kLg/e339/AU",
      "include_colab_link": true
    },
    "kernelspec": {
      "name": "python3",
      "display_name": "Python 3"
    },
    "language_info": {
      "name": "python"
    }
  },
  "cells": [
    {
      "cell_type": "markdown",
      "metadata": {
        "id": "view-in-github",
        "colab_type": "text"
      },
      "source": [
        "<a href=\"https://colab.research.google.com/github/jeslinpjames/python_lab/blob/main/Lab_cycle1.ipynb\" target=\"_parent\"><img src=\"https://colab.research.google.com/assets/colab-badge.svg\" alt=\"Open In Colab\"/></a>"
      ]
    },
    {
      "cell_type": "markdown",
      "source": [
        "**QUESTION 1**"
      ],
      "metadata": {
        "id": "CE2p9X63jxdA"
      }
    },
    {
      "cell_type": "code",
      "execution_count": null,
      "metadata": {
        "id": "d4sV2q4LKnGg",
        "colab": {
          "base_uri": "https://localhost:8080/"
        },
        "outputId": "beacd0b6-876e-4f4d-e1f0-83f1a33d22e2"
      },
      "outputs": [
        {
          "output_type": "stream",
          "name": "stdout",
          "text": [
            "Enter a 4 digit number:1565\n",
            "The Sum of Digits= 17\n",
            "The Reverse of the number= 5651\n",
            "The diffrence of product of even and odd numbers= 19\n"
          ]
        }
      ],
      "source": [
        "def sum( n):\n",
        "  s=0\n",
        "  while(n>0):\n",
        "    r=n%10;\n",
        "    s=s+r\n",
        "    n=n//10\n",
        "  return s"
      ]
    },
    {
      "cell_type": "code",
      "source": [
        "def reverse(n):\n",
        "  s=0\n",
        "  while(n>0):\n",
        "    r=n%10\n",
        "    s=s*10+r\n",
        "    n=n//10\n",
        "  return(s)"
      ],
      "metadata": {
        "id": "bN8zJGvUjfpp"
      },
      "execution_count": null,
      "outputs": []
    },
    {
      "cell_type": "code",
      "source": [
        "def prod(n):\n",
        "  s,a,b=0,1,1\n",
        "  i=1\n",
        "  while(n>0):\n",
        "    r=n%10\n",
        "    if(i%2==0):\n",
        "      b=b*r\n",
        "    else:\n",
        "      a=a*r\n",
        "    i=i+1\n",
        "    n=n//10\n",
        "  s=a-b\n",
        "  return(s)"
      ],
      "metadata": {
        "id": "Yiqo6Wkbj-62"
      },
      "execution_count": null,
      "outputs": []
    },
    {
      "cell_type": "code",
      "source": [
        "n=int(input(\"Enter a 4 digit number:\"))\n",
        "s=sum(n)\n",
        "print(\"The Sum of Digits=\",s)\n",
        "r=reverse(n)\n",
        "print(\"The Reverse of the number=\",r)\n",
        "s1=prod(n)\n",
        "print(\"The diffrence of product of even and odd numbers=\",s1)\n"
      ],
      "metadata": {
        "colab": {
          "base_uri": "https://localhost:8080/"
        },
        "id": "4X3iTPEnksyP",
        "outputId": "ff7dedc5-c639-4437-f87a-8a68a9595a7c"
      },
      "execution_count": null,
      "outputs": [
        {
          "output_type": "stream",
          "name": "stdout",
          "text": [
            "Enter a 4 digit number:1234\n",
            "The Sum of Digits= 10\n",
            "The Reverse of the number= 4321\n",
            "The diffrence of product of even and odd numbers= 5\n"
          ]
        }
      ]
    },
    {
      "cell_type": "markdown",
      "source": [
        "**QUESTION 2**"
      ],
      "metadata": {
        "id": "437m3DrLKoWx"
      }
    },
    {
      "cell_type": "code",
      "source": [
        "def inp():\n",
        "  a=int(input(\"Enter the First side:\"))\n",
        "  b=int(input(\"Enter the Second side:\"))\n",
        "  c=int(input(\"Enter the Third side:\"))\n",
        "  return(a,b,c)\n"
      ],
      "metadata": {
        "id": "wKLyZtPqArej"
      },
      "execution_count": 9,
      "outputs": []
    },
    {
      "cell_type": "code",
      "source": [
        "import math\n",
        "def area(a,b,c):\n",
        "  s=(a+b+c)/2\n",
        "  area=math.sqrt(s*(s-a)*(s-b)*(s-c))\n",
        "  return(area) "
      ],
      "metadata": {
        "id": "4k4oYdoHDVNt"
      },
      "execution_count": 5,
      "outputs": []
    },
    {
      "cell_type": "code",
      "source": [
        "print(\"For the first Triangle:\")\n",
        "a1,b1,c1=inp()\n",
        "print(\"For the second Triangle:\")\n",
        "a2,b2,c2=inp()\n",
        "ar1=area(a1,b1,c1)\n",
        "ar2=area(a2,b2,c2)\n",
        "tot=ar1+ar2\n",
        "print(\"The Total area enclosed by both the trangles =\",tot)\n",
        "p1=(ar1/tot)*100\n",
        "p2=(ar2/tot)*100\n",
        "print(\"The percentage contribution of the first triangle=\",p1)\n",
        "print(\"The percentage contribution of the second triangle=\",p2)"
      ],
      "metadata": {
        "colab": {
          "base_uri": "https://localhost:8080/"
        },
        "id": "9I4J7qFmD5i8",
        "outputId": "12693623-0e3d-4833-ab3d-3b80e4fc5fcb"
      },
      "execution_count": 17,
      "outputs": [
        {
          "output_type": "stream",
          "name": "stdout",
          "text": [
            "For the first Triangle:\n",
            "Enter the First side:3\n",
            "Enter the Second side:3\n",
            "Enter the Third side:4\n",
            "For the second Triangle:\n",
            "Enter the First side:4\n",
            "Enter the Second side:4\n",
            "Enter the Third side:3\n",
            "The Total area enclosed by both the trangles = 10.034284820321327\n",
            "The percentage contribution of the first triangle= 44.568557052941706\n",
            "The percentage contribution of the second triangle= 55.431442947058294\n"
          ]
        }
      ]
    },
    {
      "cell_type": "markdown",
      "source": [
        "**QUESTION 3**"
      ],
      "metadata": {
        "id": "o5T4i_lHHFH2"
      }
    },
    {
      "cell_type": "code",
      "source": [
        "def gross_salary(bp,da,hra,ma):\n",
        "  gs=bp+da+hra+ma\n",
        "  return(gs)"
      ],
      "metadata": {
        "id": "a-hcB1ANMrno"
      },
      "execution_count": 18,
      "outputs": []
    },
    {
      "cell_type": "code",
      "source": [
        "def deduction(pt,pf,it):\n",
        "  d=pt+pf+it\n",
        "  return(d)"
      ],
      "metadata": {
        "id": "dOHXQbdYNIGB"
      },
      "execution_count": 19,
      "outputs": []
    },
    {
      "cell_type": "code",
      "source": [
        "def net_salary(gs,d):\n",
        "  ns=gs-d\n",
        "  return(ns)"
      ],
      "metadata": {
        "id": "uHxaXAxvNaBp"
      },
      "execution_count": 20,
      "outputs": []
    },
    {
      "cell_type": "code",
      "source": [
        "def gen_payslip(name,code,bp):\n",
        "  if(bp<10000):\n",
        "    ma,pt=500,20\n",
        "    da=(5/100)*bp\n",
        "    hra=(2.5/100)*bp\n",
        "    pf=(8/100)*bp\n",
        "    it=0\n",
        "    gs=gross_salary(bp,da,hra,ma)\n",
        "    d=deduction(pt,pf,it)\n",
        "    ns=net_salary(gs,d)\n",
        "  elif(bp<=30000)and (bp>10000):\n",
        "    ma,pt=2500,60\n",
        "    da=(7.5/100)*bp\n",
        "    hra=(5/100)*bp\n",
        "    pf=(8/100)*bp\n",
        "    it=0\n",
        "    gs=gross_salary(bp,da,hra,ma)\n",
        "    d=deduction(pt,pf,it)\n",
        "    ns=net_salary(gs,d)\n",
        "  elif(bp>30000)and(bp<=50000):\n",
        "    ma,pt=5000,60\n",
        "    da=(11/100)*bp\n",
        "    hra=(7.5/100)*bp\n",
        "    pf=(11/100)*bp\n",
        "    it=(11/100)*bp\n",
        "    gs=gross_salary(bp,da,hra,ma)\n",
        "    d=deduction(pt,pf,it)\n",
        "    ns=net_salary(gs,d)\n",
        "  else:\n",
        "    ma,pt=7000,80\n",
        "    da=(25/100)*bp\n",
        "    hra=(11/100)*bp \n",
        "    pf=(12/100)*bp\n",
        "    it=(20/100)*bp\n",
        "    gs=gross_salary(bp,da,hra,ma)\n",
        "    d=deduction(pt,pf,it)\n",
        "    ns=net_salary(gs,d)\n",
        "  print(\"********PAYMENT SLIP*********\")\n",
        "  print(\"Employee name      :\",name)\n",
        "  print(\"Employee code      :\",code)\n",
        "  print(\"Basic Pay          :\",bp)\n",
        "  print(\"Employee DA        :\",da)\n",
        "  print(\"Employee HRA       :\",hra)\n",
        "  print(\"Employee MA        :\",da)\n",
        "  print(\"Employee PT        :\",pt)\n",
        "  print(\"Employee PF        :\",pf)\n",
        "  print(\"Employee IT        :\",it)\n",
        "  print(\"Gross Salary       :\",gs)\n",
        "  print(\"Deduction          :\",d)\n",
        "  print(\"Net Salary         :\",ns)"
      ],
      "metadata": {
        "id": "8tYMPU-yOYq5"
      },
      "execution_count": 23,
      "outputs": []
    },
    {
      "cell_type": "code",
      "source": [
        "name=input(\"Enter the Employee name:\")\n",
        "code=int(input(\"Enter the code:\"))\n",
        "bp=int(input(\"Enter the basic pay:\"))\n",
        "gen_payslip(name,code,bp)"
      ],
      "metadata": {
        "colab": {
          "base_uri": "https://localhost:8080/"
        },
        "id": "CVhRiAKKNiyo",
        "outputId": "acacbc16-711e-4903-80ba-075d4a301f9d"
      },
      "execution_count": 24,
      "outputs": [
        {
          "output_type": "stream",
          "name": "stdout",
          "text": [
            "Enter the Employee name:nandhu\n",
            "Enter the code:6969\n",
            "Enter the basic pay:78373\n",
            "********PAYMENT SLIP*********\n",
            "Employee name      : nandhu\n",
            "Employee code      : 6969\n",
            "Basic Pay          : 78373\n",
            "Employee DA        : 19593.25\n",
            "Employee HRA       : 8621.03\n",
            "Employee MA        : 19593.25\n",
            "Employee PT        : 80\n",
            "Employee PF        : 9404.76\n",
            "Employee IT        : 15674.6\n",
            "Gross Salary       : 113587.28\n",
            "Deduction          : 25159.36\n",
            "Net Salary         : 88427.92\n"
          ]
        }
      ]
    }
  ]
}