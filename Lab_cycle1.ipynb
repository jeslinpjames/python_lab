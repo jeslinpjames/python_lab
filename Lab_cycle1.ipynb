{
  "nbformat": 4,
  "nbformat_minor": 0,
  "metadata": {
    "colab": {
      "provenance": [],
      "authorship_tag": "ABX9TyPhVkJgZhW59lw6a4puoxL5",
      "include_colab_link": true
    },
    "kernelspec": {
      "name": "python3",
      "display_name": "Python 3"
    },
    "language_info": {
      "name": "python"
    }
  },
  "cells": [
    {
      "cell_type": "markdown",
      "metadata": {
        "id": "view-in-github",
        "colab_type": "text"
      },
      "source": [
        "<a href=\"https://colab.research.google.com/github/jeslinpjames/python_lab/blob/main/Lab_cycle1.ipynb\" target=\"_parent\"><img src=\"https://colab.research.google.com/assets/colab-badge.svg\" alt=\"Open In Colab\"/></a>"
      ]
    },
    {
      "cell_type": "markdown",
      "source": [
        "**QUESTION 1**"
      ],
      "metadata": {
        "id": "CE2p9X63jxdA"
      }
    },
    {
      "cell_type": "code",
      "execution_count": null,
      "metadata": {
        "id": "d4sV2q4LKnGg",
        "colab": {
          "base_uri": "https://localhost:8080/"
        },
        "outputId": "beacd0b6-876e-4f4d-e1f0-83f1a33d22e2"
      },
      "outputs": [
        {
          "output_type": "stream",
          "name": "stdout",
          "text": [
            "Enter a 4 digit number:1565\n",
            "The Sum of Digits= 17\n",
            "The Reverse of the number= 5651\n",
            "The diffrence of product of even and odd numbers= 19\n"
          ]
        }
      ],
      "source": [
        "def sum( n):\n",
        "  s=0\n",
        "  while(n>0):\n",
        "    r=n%10;\n",
        "    s=s+r\n",
        "    n=n//10\n",
        "  return s"
      ]
    },
    {
      "cell_type": "code",
      "source": [
        "def reverse(n):\n",
        "  s=0\n",
        "  while(n>0):\n",
        "    r=n%10\n",
        "    s=s*10+r\n",
        "    n=n//10\n",
        "  return(s)"
      ],
      "metadata": {
        "id": "bN8zJGvUjfpp"
      },
      "execution_count": null,
      "outputs": []
    },
    {
      "cell_type": "code",
      "source": [
        "def prod(n):\n",
        "  s,a,b=0,1,1\n",
        "  i=1\n",
        "  while(n>0):\n",
        "    r=n%10\n",
        "    if(i%2==0):\n",
        "      b=b*r\n",
        "    else:\n",
        "      a=a*r\n",
        "    i=i+1\n",
        "    n=n//10\n",
        "  s=a-b\n",
        "  return(s)"
      ],
      "metadata": {
        "id": "Yiqo6Wkbj-62"
      },
      "execution_count": null,
      "outputs": []
    },
    {
      "cell_type": "code",
      "source": [
        "n=int(input(\"Enter a 4 digit number:\"))\n",
        "s=sum(n)\n",
        "print(\"The Sum of Digits=\",s)\n",
        "r=reverse(n)\n",
        "print(\"The Reverse of the number=\",r)\n",
        "s1=prod(n)\n",
        "print(\"The diffrence of product of even and odd numbers=\",s1)\n"
      ],
      "metadata": {
        "colab": {
          "base_uri": "https://localhost:8080/"
        },
        "id": "4X3iTPEnksyP",
        "outputId": "ff7dedc5-c639-4437-f87a-8a68a9595a7c"
      },
      "execution_count": null,
      "outputs": [
        {
          "output_type": "stream",
          "name": "stdout",
          "text": [
            "Enter a 4 digit number:1234\n",
            "The Sum of Digits= 10\n",
            "The Reverse of the number= 4321\n",
            "The diffrence of product of even and odd numbers= 5\n"
          ]
        }
      ]
    },
    {
      "cell_type": "markdown",
      "source": [
        "**QUESTION 2**"
      ],
      "metadata": {
        "id": "437m3DrLKoWx"
      }
    },
    {
      "cell_type": "code",
      "source": [],
      "metadata": {
        "id": "wKLyZtPqArej"
      },
      "execution_count": null,
      "outputs": []
    }
  ]
}