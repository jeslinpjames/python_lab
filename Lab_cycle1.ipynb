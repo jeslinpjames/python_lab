{
  "nbformat": 4,
  "nbformat_minor": 0,
  "metadata": {
    "colab": {
      "provenance": [],
      "authorship_tag": "ABX9TyOT/74k1FPI/+Wdf0nYUK4U",
      "include_colab_link": true
    },
    "kernelspec": {
      "name": "python3",
      "display_name": "Python 3"
    },
    "language_info": {
      "name": "python"
    }
  },
  "cells": [
    {
      "cell_type": "markdown",
      "metadata": {
        "id": "view-in-github",
        "colab_type": "text"
      },
      "source": [
        "<a href=\"https://colab.research.google.com/github/jeslinpjames/python_lab/blob/main/Lab_cycle1.ipynb\" target=\"_parent\"><img src=\"https://colab.research.google.com/assets/colab-badge.svg\" alt=\"Open In Colab\"/></a>"
      ]
    },
    {
      "cell_type": "markdown",
      "source": [
        "**QUESTION 1**"
      ],
      "metadata": {
        "id": "CE2p9X63jxdA"
      }
    },
    {
      "cell_type": "code",
      "execution_count": null,
      "metadata": {
        "id": "d4sV2q4LKnGg"
      },
      "outputs": [],
      "source": [
        "#Function to return the sum of digits of a number\n",
        "def sum( n):\n",
        "  s=0\n",
        "  while(n>0):\n",
        "    r=n%10;#To seperate each digits\n",
        "    s=s+r#To store the sum\n",
        "    n=n//10\n",
        "  return s"
      ]
    },
    {
      "cell_type": "code",
      "source": [
        "#Function to return the reverse of a number\n",
        "def reverse(n):\n",
        "  s=0\n",
        "  while(n>0):\n",
        "    r=n%10#To seperate each digit\n",
        "    s=s*10+r#To store the reverese of a number\n",
        "    n=n//10\n",
        "  return(s)"
      ],
      "metadata": {
        "id": "bN8zJGvUjfpp"
      },
      "execution_count": null,
      "outputs": []
    },
    {
      "cell_type": "code",
      "source": [
        "\"\"\"Function to find the difference between the product of digits at the odd \n",
        "postion and the product of digits at the even postions\"\"\"\n",
        "def prod(n):\n",
        "  s,a,b=0,1,1\n",
        "  i=1\n",
        "  while(n>0):\n",
        "    r=n%10\n",
        "    if(i%2==0):#To check for even and odd positions of the digit\n",
        "      b=b*r#To store the product of digits in even places\n",
        "    else:\n",
        "      a=a*r#To store the product of digits in odd places\n",
        "    i=i+1\n",
        "    n=n//10\n",
        "  s=b-a#To find the difference of even and odd places\n",
        "  return(s)"
      ],
      "metadata": {
        "id": "Yiqo6Wkbj-62"
      },
      "execution_count": null,
      "outputs": []
    },
    {
      "cell_type": "code",
      "source": [
        "n=int(input(\"Enter a 4 digit number:\"))\n",
        "s=sum(n)#To call the sum functio\n",
        "print(\"The Sum of Digits=\",s)\n",
        "r=reverse(n)#To call the reverse function\n",
        "print(\"The Reverse of the number=\",r)\n",
        "s1=prod(n)#To call the prod function\n",
        "print(\"The diffrence of product of even and odd numbers=\",s1)\n"
      ],
      "metadata": {
        "colab": {
          "base_uri": "https://localhost:8080/"
        },
        "id": "4X3iTPEnksyP",
        "outputId": "f8e469f2-1c93-44cd-dc77-4be1f9bc94bc"
      },
      "execution_count": null,
      "outputs": [
        {
          "output_type": "stream",
          "name": "stdout",
          "text": [
            "Enter a 4 digit number:1234\n",
            "The Sum of Digits= 10\n",
            "The Reverse of the number= 4321\n",
            "The diffrence of product of even and odd numbers= -5\n"
          ]
        }
      ]
    },
    {
      "cell_type": "markdown",
      "source": [
        "**QUESTION 2**"
      ],
      "metadata": {
        "id": "437m3DrLKoWx"
      }
    },
    {
      "cell_type": "code",
      "source": [
        "#Function to accept the three sides of a triangle\n",
        "def inp():\n",
        "  a=int(input(\"Enter the First side:\"))\n",
        "  b=int(input(\"Enter the Second side:\"))\n",
        "  c=int(input(\"Enter the Third side:\"))\n",
        "  return(a,b,c)#To return the accepted values\n"
      ],
      "metadata": {
        "id": "wKLyZtPqArej"
      },
      "execution_count": null,
      "outputs": []
    },
    {
      "cell_type": "code",
      "source": [
        "#Function to find the area of a Triangle\n",
        "import math\n",
        "def area(a,b,c):\n",
        "  s=(a+b+c)/2\n",
        "  area=math.sqrt(s*(s-a)*(s-b)*(s-c))\n",
        "  return(area) "
      ],
      "metadata": {
        "id": "4k4oYdoHDVNt"
      },
      "execution_count": null,
      "outputs": []
    },
    {
      "cell_type": "code",
      "source": [
        "print(\"For the first Triangle:\")#Accepting first triangle sides\n",
        "a1,b1,c1=inp()\n",
        "print(\"For the second Triangle:\")#Accepting second triangle sides\n",
        "a2,b2,c2=inp()\n",
        "ar1=area(a1,b1,c1)\n",
        "ar2=area(a2,b2,c2)\n",
        "tot=ar1+ar2               #To add up the total area of the two triangles\n",
        "print(\"The Total area enclosed by both the trangles =\",tot)\n",
        "p1=(ar1/tot)*100          #To find the percentage contribution of triangle 1\n",
        "p2=(ar2/tot)*100          #To find the percentage contribution of triangle 2\n",
        "print(\"The percentage contribution of the first triangle=\",p1)\n",
        "print(\"The percentage contribution of the second triangle=\",p2)"
      ],
      "metadata": {
        "colab": {
          "base_uri": "https://localhost:8080/"
        },
        "id": "9I4J7qFmD5i8",
        "outputId": "12693623-0e3d-4833-ab3d-3b80e4fc5fcb"
      },
      "execution_count": null,
      "outputs": [
        {
          "output_type": "stream",
          "name": "stdout",
          "text": [
            "For the first Triangle:\n",
            "Enter the First side:3\n",
            "Enter the Second side:3\n",
            "Enter the Third side:4\n",
            "For the second Triangle:\n",
            "Enter the First side:4\n",
            "Enter the Second side:4\n",
            "Enter the Third side:3\n",
            "The Total area enclosed by both the trangles = 10.034284820321327\n",
            "The percentage contribution of the first triangle= 44.568557052941706\n",
            "The percentage contribution of the second triangle= 55.431442947058294\n"
          ]
        }
      ]
    },
    {
      "cell_type": "markdown",
      "source": [
        "**QUESTION 3**"
      ],
      "metadata": {
        "id": "o5T4i_lHHFH2"
      }
    },
    {
      "cell_type": "code",
      "source": [
        "#Function to compute the gross salary\n",
        "def gross_salary(bp,da,hra,ma):\n",
        "  gs=bp+da+hra+ma\n",
        "  return(gs)"
      ],
      "metadata": {
        "id": "a-hcB1ANMrno"
      },
      "execution_count": null,
      "outputs": []
    },
    {
      "cell_type": "code",
      "source": [
        "#Function to compute the deduction\n",
        "def deduction(pt,pf,it):\n",
        "  d=pt+pf+it\n",
        "  return(d)"
      ],
      "metadata": {
        "id": "dOHXQbdYNIGB"
      },
      "execution_count": null,
      "outputs": []
    },
    {
      "cell_type": "code",
      "source": [
        "#Function to compute the net salary\n",
        "def net_salary(gs,d):\n",
        "  ns=gs-d\n",
        "  return(ns)"
      ],
      "metadata": {
        "id": "uHxaXAxvNaBp"
      },
      "execution_count": null,
      "outputs": []
    },
    {
      "cell_type": "code",
      "source": [
        "#Function to generate and print the payslip\n",
        "def gen_payslip(name,code,bp):\n",
        "  if(bp<10000):#Condition when the basic pay is less than 10000\n",
        "    ma,pt=500,20\n",
        "    da=(5/100)*bp#To compute the value of DA from Basic Pay\n",
        "    hra=(2.5/100)*bp#To compute the value of HRA from Basic Pay\n",
        "    pf=(8/100)*bp#To compute the value of PF from Basic Pay\n",
        "    it=0\n",
        "  elif(bp<=30000)and (bp>10000):#Condition when the basic pay is greater than 10000 but less than 30000\n",
        "    ma,pt=2500,60\n",
        "    da=(7.5/100)*bp\n",
        "    hra=(5/100)*bp\n",
        "    pf=(8/100)*bp\n",
        "    it=0\n",
        "  elif(bp>30000)and(bp<=50000):#Condition when the basic pay is greater than 30000 but less than 50000\n",
        "    ma,pt=5000,60\n",
        "    da=(11/100)*bp\n",
        "    hra=(7.5/100)*bp\n",
        "    pf=(11/100)*bp\n",
        "    it=(11/100)*bp\n",
        "  else:#Condition when the basic pay is greater than 50000\n",
        "    ma,pt=7000,80\n",
        "    da=(25/100)*bp\n",
        "    hra=(11/100)*bp \n",
        "    pf=(12/100)*bp\n",
        "    it=(20/100)*bp\n",
        "  #To display all the details accepted and computed in the payment slip\n",
        "  gs=gross_salary(bp,da,hra,ma)\n",
        "  d=deduction(pt,pf,it)\n",
        "  ns=net_salary(gs,d)\n",
        "  print(\"********PAYMENT SLIP*********\")\n",
        "  print(\"Employee name      :\",name)\n",
        "  print(\"Employee code      :\",code)\n",
        "  print(\"Basic Pay          :\",bp)\n",
        "  print(\"Employee DA        :\",da)\n",
        "  print(\"Employee HRA       :\",hra)\n",
        "  print(\"Employee MA        :\",da)\n",
        "  print(\"Employee PT        :\",pt)\n",
        "  print(\"Employee PF        :\",pf)\n",
        "  print(\"Employee IT        :\",it)\n",
        "  print(\"Gross Salary       :\",gs)\n",
        "  print(\"Deduction          :\",d)\n",
        "  print(\"Net Salary         :\",ns)"
      ],
      "metadata": {
        "id": "8tYMPU-yOYq5"
      },
      "execution_count": null,
      "outputs": []
    },
    {
      "cell_type": "code",
      "source": [
        "#To accept Employee name code and basic pay from the user and call the functions to print the payment slip\n",
        "name=input(\"Enter the Employee name:\")\n",
        "code=int(input(\"Enter the code:\"))\n",
        "bp=int(input(\"Enter the basic pay:\"))\n",
        "gen_payslip(name,code,bp)"
      ],
      "metadata": {
        "colab": {
          "base_uri": "https://localhost:8080/"
        },
        "id": "CVhRiAKKNiyo",
        "outputId": "f25de072-9ac1-49f5-e978-7d1c5039d7b0"
      },
      "execution_count": null,
      "outputs": [
        {
          "output_type": "stream",
          "name": "stdout",
          "text": [
            "Enter the Employee name:kjhdsfj\n",
            "Enter the code:387\n",
            "Enter the basic pay:377333\n",
            "********PAYMENT SLIP*********\n",
            "Employee name      : kjhdsfj\n",
            "Employee code      : 387\n",
            "Basic Pay          : 377333\n",
            "Employee DA        : 94333.25\n",
            "Employee HRA       : 41506.63\n",
            "Employee MA        : 94333.25\n",
            "Employee PT        : 80\n",
            "Employee PF        : 45279.96\n",
            "Employee IT        : 75466.6\n",
            "Gross Salary       : 520172.88\n",
            "Deduction          : 120826.56\n",
            "Net Salary         : 399346.32\n"
          ]
        }
      ]
    },
    {
      "cell_type": "markdown",
      "source": [
        "**QUESTION 4**\n"
      ],
      "metadata": {
        "id": "AoSET4gnUZxC"
      }
    },
    {
      "cell_type": "code",
      "source": [
        "#Function to check whether the accepted number is a happy number or not and return true or false accordingly\n",
        "def check_happy(n):\n",
        "  i=0#Used to check how many times the loop works\n",
        "  while(n!=1):\n",
        "    a,s=n,0\n",
        "    while(a>0):\n",
        "      r=a%10\n",
        "      s=s+r*r#To add up the sum of squares of the digits\n",
        "      a=a//10\n",
        "    n=s#To change the value of n to the sum of squares of the digits\n",
        "    i=i+1\n",
        "    if(i>100):\n",
        "      break\n",
        "  if((n==1)and(i<100)):\n",
        "    return True #Return true if it is a happy number\n",
        "  else:\n",
        "    return False #Return false if the number is a sad number"
      ],
      "metadata": {
        "id": "gy7j5e15UgBR"
      },
      "execution_count": 18,
      "outputs": []
    },
    {
      "cell_type": "code",
      "source": [
        "#Function to print all the happy numbers between 2 limits\n",
        "def range_happy(a,b):\n",
        "  i=a\n",
        "  while(i<=b):\n",
        "    bo=check_happy(i) #Calling the function to check if i is a happy number  \n",
        "    if(bo==True):\n",
        "      print(i,\" \") #If it is then print the number\n",
        "    i=i+1\n",
        "    "
      ],
      "metadata": {
        "id": "JWkmxvrOWDjL"
      },
      "execution_count": 2,
      "outputs": []
    },
    {
      "cell_type": "code",
      "source": [
        "#Function to print all the happy number til the accepted limit\n",
        "def happy_n(n):\n",
        "  i=0\n",
        "  while(i<=n):\n",
        "    bo=check_happy(i)#Calling the function to check if i is a happy number\n",
        "    if(bo==True):\n",
        "      print(i,\" \")\n",
        "    i=i+1"
      ],
      "metadata": {
        "id": "SCBOx73hXiUs"
      },
      "execution_count": 3,
      "outputs": []
    },
    {
      "cell_type": "code",
      "source": [
        "#to check whether the accepted number is happy or not\n",
        "n=int(input(\"Enter a number:\"))\n",
        "bo=check_happy(n)\n",
        "if(bo==True):\n",
        "  print(\"The number is a happy number\")\n",
        "else:\n",
        "  print(\"The number is a sad number\")"
      ],
      "metadata": {
        "colab": {
          "base_uri": "https://localhost:8080/"
        },
        "id": "J2JWSC1cYM4E",
        "outputId": "1c717006-b63f-4f77-daf5-b27e572f22d0"
      },
      "execution_count": 7,
      "outputs": [
        {
          "output_type": "stream",
          "name": "stdout",
          "text": [
            "Enter a number:3423\n",
            "The number is a sad number\n"
          ]
        }
      ]
    },
    {
      "cell_type": "code",
      "source": [
        "#to generate happy number between a range \n",
        "a=int(input(\"Enter the lower limit:\"))\n",
        "b=int(input(\"Enter the upper limit:\"))\n",
        "range_happy(a,b)"
      ],
      "metadata": {
        "colab": {
          "base_uri": "https://localhost:8080/"
        },
        "id": "IIqsM4jXZGmE",
        "outputId": "09be1579-d832-44f5-fe56-8aa0ffc18666"
      },
      "execution_count": null,
      "outputs": [
        {
          "name": "stdout",
          "output_type": "stream",
          "text": [
            "Enter the lower limit:3\n",
            "Enter the upper limit:6\n"
          ]
        }
      ]
    },
    {
      "cell_type": "code",
      "source": [
        "#to generate all the happy numbers upto a limit\n",
        "n=int(input(\"Enter a limit:\"))\n",
        "happy_n(n)"
      ],
      "metadata": {
        "colab": {
          "base_uri": "https://localhost:8080/"
        },
        "id": "0cEZ_2AMZlC7",
        "outputId": "f1fe95e9-9e7c-420f-e0d0-c7cd074c030b"
      },
      "execution_count": 20,
      "outputs": [
        {
          "output_type": "stream",
          "name": "stdout",
          "text": [
            "Enter a limit:50\n",
            "1  \n",
            "7  \n",
            "10  \n",
            "13  \n",
            "19  \n",
            "23  \n",
            "28  \n",
            "31  \n",
            "32  \n",
            "44  \n",
            "49  \n"
          ]
        }
      ]
    },
    {
      "cell_type": "markdown",
      "source": [
        "**QUESTION 5**"
      ],
      "metadata": {
        "id": "a_OFtxtmaIWs"
      }
    },
    {
      "cell_type": "code",
      "source": [
        "#Function to print all the possible substrings\n",
        "def all_subs(s):\n",
        "  i,j=0,0\n",
        "  l=len(s)#To find the length of the accepted string\n",
        "  for i in range(0,l+1):\n",
        "    for j in range(i+1,l+1):\n",
        "      print(s[i:j],end=\",\")#To print all the substrings"
      ],
      "metadata": {
        "id": "ftCY5PLyaK08"
      },
      "execution_count": null,
      "outputs": []
    },
    {
      "cell_type": "code",
      "source": [
        "#Function to print all possible substrings of length n\n",
        "def subs_with_length(s,n):\n",
        "  i,j=0,0\n",
        "  l=len(s)\n",
        "  for i in range(0,l+1):\n",
        "    for j in range(i+1,l+1):\n",
        "      s1=s[i:j]#To store the substring values to check if the length is equal to n\n",
        "      if(len(s1)==n):\n",
        "        print(s1,end=\",\")"
      ],
      "metadata": {
        "id": "f5Ny_qrhcgy1"
      },
      "execution_count": null,
      "outputs": []
    },
    {
      "cell_type": "code",
      "source": [
        "#Function to print all possible substings of length n with c distinct characters\n",
        "def subs_dist_char_and_length(s,n,c):\n",
        "  i,j=0,0\n",
        "  l=len(s)\n",
        "  for i in range(0,l+1):\n",
        "    for j in range(i+1,l+1):\n",
        "      s1=s[i:j]\n",
        "      dist=set(s1)#To make the strings unique that is ton delete duplicate characters\n",
        "      if(len(dist)==n):\n",
        "        print(s1,end=\",\")"
      ],
      "metadata": {
        "id": "UTx4mNiIgAUF"
      },
      "execution_count": null,
      "outputs": []
    },
    {
      "cell_type": "code",
      "source": [
        "#Function to print all palindrome substrings\n",
        "def print_palindrome_subs(s):\n",
        "  i,j=0,0\n",
        "  l=len(s)\n",
        "  for i in range(0,l+1):\n",
        "    for j in range(i+1,l+1):\n",
        "      s1=s[i:j]\n",
        "      s2=s1[::-1]#To reverse the substring\n",
        "      if(s2==s1):\n",
        "        print(s1,end=\",\")\n",
        "  \n"
      ],
      "metadata": {
        "id": "v4ziltdvhmKg"
      },
      "execution_count": null,
      "outputs": []
    },
    {
      "cell_type": "code",
      "source": [
        "s=input(\"Enter the String:\")\n",
        "print(\"All possible substrings are:\")\n",
        "all_subs(s)"
      ],
      "metadata": {
        "colab": {
          "base_uri": "https://localhost:8080/"
        },
        "id": "ZuNPh6j3kKzg",
        "outputId": "08efd009-60d0-4b35-89a8-71a32791787a"
      },
      "execution_count": null,
      "outputs": [
        {
          "output_type": "stream",
          "name": "stdout",
          "text": [
            "Enter the String:jeslinpjames\n",
            "All possible substrings are:\n",
            "j,je,jes,jesl,jesli,jeslin,jeslinp,jeslinpj,jeslinpja,jeslinpjam,jeslinpjame,jeslinpjames,e,es,esl,esli,eslin,eslinp,eslinpj,eslinpja,eslinpjam,eslinpjame,eslinpjames,s,sl,sli,slin,slinp,slinpj,slinpja,slinpjam,slinpjame,slinpjames,l,li,lin,linp,linpj,linpja,linpjam,linpjame,linpjames,i,in,inp,inpj,inpja,inpjam,inpjame,inpjames,n,np,npj,npja,npjam,npjame,npjames,p,pj,pja,pjam,pjame,pjames,j,ja,jam,jame,james,a,am,ame,ames,m,me,mes,e,es,s,"
          ]
        }
      ]
    },
    {
      "cell_type": "code",
      "source": [
        "k=int(input(\"Enter the length of the substrings that you want to print:\"))\n",
        "print(\"The possible substrings with length\",k,\"is:\")\n",
        "subs_with_length(s,k)"
      ],
      "metadata": {
        "colab": {
          "base_uri": "https://localhost:8080/"
        },
        "id": "uJakmVImWr3Y",
        "outputId": "14721a2b-f724-4f9b-9b39-c3c5d6139fd3"
      },
      "execution_count": null,
      "outputs": [
        {
          "output_type": "stream",
          "name": "stdout",
          "text": [
            "Enter the length of the substrings that you want to print:4\n",
            "The possible substrings with length 4 is:\n",
            "jesl,esli,slin,linp,inpj,npja,pjam,jame,ames,"
          ]
        }
      ]
    },
    {
      "cell_type": "code",
      "source": [
        "nof_dist=int(input(\"Enter the number of distinct characters in the substrings\"))\n",
        "print(\"The substrings with\",k,\"length and\",nof_dist,\"distinct characters are:\")\n",
        "subs_dist_char_and_length(s,k,nof_dist)"
      ],
      "metadata": {
        "colab": {
          "base_uri": "https://localhost:8080/"
        },
        "id": "CkFCI94KXIpZ",
        "outputId": "05ccc98b-5987-4fa5-d16e-87f6715ab5b0"
      },
      "execution_count": null,
      "outputs": [
        {
          "output_type": "stream",
          "name": "stdout",
          "text": [
            "Enter the number of distinct characters in the substrings2\n",
            "The substrings with 4 length and 2 distinct characters are:\n",
            "jesl,esli,slin,linp,inpj,npja,pjam,jame,ames,"
          ]
        }
      ]
    },
    {
      "cell_type": "code",
      "source": [
        "print(\"All the palindrome substrings are:\")\n",
        "print_palindrome_subs(s)"
      ],
      "metadata": {
        "id": "1lm5y-8JXwfu",
        "colab": {
          "base_uri": "https://localhost:8080/"
        },
        "outputId": "921b3198-ce5e-45b3-fce9-0dd04b1de48f"
      },
      "execution_count": null,
      "outputs": [
        {
          "output_type": "stream",
          "name": "stdout",
          "text": [
            "All the palindrome substrings are:\n",
            "j,e,s,l,i,n,p,j,a,m,e,s,"
          ]
        }
      ]
    }
  ]
}