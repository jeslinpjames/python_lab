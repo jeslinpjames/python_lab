{
  "nbformat": 4,
  "nbformat_minor": 0,
  "metadata": {
    "colab": {
      "provenance": [],
      "authorship_tag": "ABX9TyPWjTihWakQoDyaDfXzzoQy",
      "include_colab_link": true
    },
    "kernelspec": {
      "name": "python3",
      "display_name": "Python 3"
    },
    "language_info": {
      "name": "python"
    }
  },
  "cells": [
    {
      "cell_type": "markdown",
      "metadata": {
        "id": "view-in-github",
        "colab_type": "text"
      },
      "source": [
        "<a href=\"https://colab.research.google.com/github/jeslinpjames/python_lab/blob/main/raptor_to_python.ipynb\" target=\"_parent\"><img src=\"https://colab.research.google.com/assets/colab-badge.svg\" alt=\"Open In Colab\"/></a>"
      ]
    },
    {
      "cell_type": "code",
      "source": [
        "n =int(input(\"Enter a number to find Factorial:\"))\n",
        "f=1\n",
        "while n>0:\n",
        "  f=f*n\n",
        "  n=n-1\n",
        "print(\"The Factorial is :\",f)  \n"
      ],
      "metadata": {
        "id": "FTEwLSzhRVyk",
        "colab": {
          "base_uri": "https://localhost:8080/"
        },
        "outputId": "c8715663-8c5e-4601-870e-4eac027339bf"
      },
      "execution_count": null,
      "outputs": [
        {
          "output_type": "stream",
          "name": "stdout",
          "text": [
            "Enter a number to find Factorial:6\n",
            "The Factorial is : 720\n"
          ]
        }
      ]
    },
    {
      "cell_type": "code",
      "source": [
        "print(\"Program to find the GCD of two numbers:\")\n",
        "a=int(input(\"Enter 1st Number:\"))\n",
        "b=int(input(\"Enter 2nd Number:\"))\n",
        "if a<b:\n",
        "  a,b=b,a\n",
        "for i in range(b,0,-1):\n",
        "  if a % i==0 and b % i==0 :\n",
        "    break\n",
        "print(\"The GCD is :\",i)"
      ],
      "metadata": {
        "id": "DuyEHnKzvmFK",
        "colab": {
          "base_uri": "https://localhost:8080/"
        },
        "outputId": "d80a629a-d882-4111-ad61-642b6cc9e4eb"
      },
      "execution_count": null,
      "outputs": [
        {
          "output_type": "stream",
          "name": "stdout",
          "text": [
            "Program to find the GCD of two numbers:\n",
            "Enter 1st Number:24\n",
            "Enter 2nd Number:16\n",
            "The GCD is : 8\n"
          ]
        }
      ]
    },
    {
      "cell_type": "code",
      "source": [
        "print(\"Program to Print first n  Odd numbers:\")\n",
        "n =int(input(\"Enter the value of N:\"))\n",
        "for i in range(1,n*2,2):\n",
        "  print(i,\" \")"
      ],
      "metadata": {
        "colab": {
          "base_uri": "https://localhost:8080/"
        },
        "id": "jdtBg35O00tD",
        "outputId": "2d7bddec-d068-4448-cd00-ad3ab31c6c31"
      },
      "execution_count": null,
      "outputs": [
        {
          "output_type": "stream",
          "name": "stdout",
          "text": [
            "Program to Print first n  Odd numbers:\n",
            "Enter the value of N:5\n",
            "1  \n",
            "3  \n",
            "5  \n",
            "7  \n",
            "9  \n"
          ]
        }
      ]
    },
    {
      "cell_type": "code",
      "source": [
        "print(\"Program to find the value of x^n\")\n",
        "x =int(input(\"Enter the value of X:\"))\n",
        "n=int(input(\"Enter the value of n:\"))\n",
        "a=1\n",
        "while(n>0):\n",
        "  a=a*x\n",
        "  n=n-1\n",
        "print(\"The value of X^n=\",a)"
      ],
      "metadata": {
        "colab": {
          "base_uri": "https://localhost:8080/"
        },
        "id": "ZyqRb7K52V9s",
        "outputId": "4c1642da-ad12-46b4-fb5e-94438f2ff229"
      },
      "execution_count": null,
      "outputs": [
        {
          "output_type": "stream",
          "name": "stdout",
          "text": [
            "Program to find the value of x^n\n",
            "Enter the value of X:3\n",
            "Enter the value of n:2\n",
            "The value of X^n= 9\n"
          ]
        }
      ]
    },
    {
      "cell_type": "code",
      "source": [
        "import math\n",
        "print(\"Program to check whether the givem number is Armstrong or not :\")\n",
        "a=int(input(\"Enter the Number:\"))\n",
        "b=a\n",
        "c=0\n",
        "s=0\n",
        "while(a>0):\n",
        "  a=a//10\n",
        "  c=c+1\n",
        "a=b\n",
        "while(a>0):\n",
        "  r=a%10\n",
        "  s=s+math.pow(r,c)\n",
        "  a=a//10\n",
        "if(b==s):\n",
        "  print(\"The Number is Armstrong\")\n",
        "else :\n",
        "  print(\"The Number is not Armstrong\")\n"
      ],
      "metadata": {
        "colab": {
          "base_uri": "https://localhost:8080/"
        },
        "id": "xYvsOIbf5UBm",
        "outputId": "0d7e66bc-f505-4e25-a14e-5675cb96022f"
      },
      "execution_count": null,
      "outputs": [
        {
          "output_type": "stream",
          "name": "stdout",
          "text": [
            "Program to check whether the givem number is Armstrong or not :\n",
            "Enter the Number:153\n",
            "The Number is Armstrong\n"
          ]
        }
      ]
    },
    {
      "cell_type": "code",
      "source": [
        "print(\"Program to check whether the givem number is Palindrome or not :\")\n",
        "a=int(input(\"Enter the Number:\"))\n",
        "b=a\n",
        "s=0\n",
        "while(a>0):\n",
        "  r=a%10\n",
        "  s=s*10+r\n",
        "  a=a//10\n",
        "if(b==s):\n",
        "  print(\"The Number is Palindrome\")\n",
        "else :\n",
        "  print(\"The Number is not Palindrome\")\n"
      ],
      "metadata": {
        "colab": {
          "base_uri": "https://localhost:8080/"
        },
        "outputId": "b50199fb-4e67-44d4-9ab7-26f662de9c39",
        "id": "ca75_EjkAN-x"
      },
      "execution_count": null,
      "outputs": [
        {
          "output_type": "stream",
          "name": "stdout",
          "text": [
            "Program to check whether the givem number is Palindrome or not :\n",
            "Enter the Number:121\n",
            "The Number is Palindrome\n"
          ]
        }
      ]
    },
    {
      "cell_type": "code",
      "source": [
        "n=int(input(\"Enter a number:\"))\n",
        "f=2\n",
        "c=0\n",
        "while f<=n/2 :\n",
        "  if n % f ==0 :\n",
        "    c=c+1\n",
        "    break\n",
        "  f=f+1\n",
        "if(c==0):\n",
        "  print(\"The Number is Prime.\")\n",
        "else:\n",
        "     print(\"The Number is not Prime.\")\n"
      ],
      "metadata": {
        "colab": {
          "base_uri": "https://localhost:8080/"
        },
        "id": "kv1C-f848ple",
        "outputId": "24dd9036-802a-4eb8-8a73-cec1236ca9bf"
      },
      "execution_count": null,
      "outputs": [
        {
          "output_type": "stream",
          "name": "stdout",
          "text": [
            "Enter a number:33\n",
            "The Number is not Prime.\n"
          ]
        }
      ]
    },
    {
      "cell_type": "code",
      "source": [
        "print(\"Program to find the sum of Factors of a number:\")\n",
        "n=int(input(\"Enter a number:\"))\n",
        "i=1\n",
        "s=0\n",
        "while(i<=n):\n",
        "  if(n%i==0):\n",
        "    s=s+i\n",
        "  i=i+1\n",
        "print(\"Sum of factors:\",s)\n"
      ],
      "metadata": {
        "colab": {
          "base_uri": "https://localhost:8080/"
        },
        "id": "uzzwlDBY_CBj",
        "outputId": "74b799a1-d386-4fbc-b8a6-3b4afb8bffb7"
      },
      "execution_count": null,
      "outputs": [
        {
          "output_type": "stream",
          "name": "stdout",
          "text": [
            "Program to find the sum of Factors of a number:\n",
            "Enter a number:6\n",
            "Sum of factors: 12\n"
          ]
        }
      ]
    },
    {
      "cell_type": "code",
      "source": [
        "print(\"Program to print sum of n natural numbers:\")\n",
        "n=int(input(\"Enter the number:\"))\n",
        "s,i=0,0\n",
        "while(i<=n):\n",
        "  s=s+i\n",
        "  i=i+1\n",
        "print(\"The sum =\",s)"
      ],
      "metadata": {
        "colab": {
          "base_uri": "https://localhost:8080/"
        },
        "id": "-Ei3ZmxMNXKG",
        "outputId": "9d67fcc1-bc30-4382-abc9-dde1e5c1d8b5"
      },
      "execution_count": null,
      "outputs": [
        {
          "output_type": "stream",
          "name": "stdout",
          "text": [
            "Program to print sum of n natural numbers:\n",
            "Enter the number:5\n",
            "The sum = 15\n"
          ]
        }
      ]
    },
    {
      "cell_type": "code",
      "source": [
        "print(\"Program to Print the reverse of a number:\")\n",
        "a=int(input(\"Enter the Number:\"))\n",
        "b=a\n",
        "s=0\n",
        "while(a>0):\n",
        "  r=a%10\n",
        "  s=s*10+r\n",
        "  a=a//10\n",
        "print(\"The Number after reversing=\",s)\n"
      ],
      "metadata": {
        "colab": {
          "base_uri": "https://localhost:8080/"
        },
        "outputId": "e5c33ef1-4c5e-4c53-86b6-079bfbd23099",
        "id": "2GXqxeYyOY_u"
      },
      "execution_count": null,
      "outputs": [
        {
          "output_type": "stream",
          "name": "stdout",
          "text": [
            "Program to Print the reverse of a number:\n",
            "Enter the Number:369\n",
            "The Number after reversing= 963\n"
          ]
        }
      ]
    },
    {
      "cell_type": "code",
      "source": [
        "print(\"Program to print the nature of Quadratic equations:\")\n",
        "a=int(input(\"Enter the value of a: \"))\n",
        "b=int(input(\"Enter the value of b: \"))\n",
        "c=int(input(\"Enter the value of c  \"))\n",
        "d=(b*b)-4*(a*c)\n",
        "if(d==0):\n",
        "  print(\"The roots are real and equal\")\n",
        "else:\n",
        "  if(d>0):\n",
        "    print(\"The roots are real and unequal\")\n",
        "  else:\n",
        "      print(\"The roots are imaginary and Unequal\")\n",
        "  "
      ],
      "metadata": {
        "colab": {
          "base_uri": "https://localhost:8080/"
        },
        "id": "e6my8OFqOp9-",
        "outputId": "1f219242-43f4-4a17-f4f1-4f84792bc6dc"
      },
      "execution_count": null,
      "outputs": [
        {
          "output_type": "stream",
          "name": "stdout",
          "text": [
            "Program to print the nature of Quadratic equations:\n",
            "Enter the value of a: 4\n",
            "Enter the value of b: 5\n",
            "Enter the value of c  7\n",
            "The roots are imaginary and Unequal\n"
          ]
        }
      ]
    },
    {
      "cell_type": "code",
      "source": [
        "print(\"Program to check whether a number is a multiple of another:\")\n",
        "a=int(input(\"Enter the first number:\"))\n",
        "b=int(input(\"Enter the Second number:\"))\n",
        "if(a>b):\n",
        "  if(a%b==0):\n",
        "    print(\"It is a multiple\")\n",
        "  else:\n",
        "    print(\"It is not a multiple\")\n",
        "else:\n",
        "  if(b%a==0):\n",
        "    print(\"It is multiple\")\n",
        "  else:\n",
        "    print(\"It is not a multiple\")"
      ],
      "metadata": {
        "colab": {
          "base_uri": "https://localhost:8080/"
        },
        "id": "fVcm74tjQx2W",
        "outputId": "ce34e724-a516-4078-a0df-32f371268911"
      },
      "execution_count": null,
      "outputs": [
        {
          "output_type": "stream",
          "name": "stdout",
          "text": [
            "Program to check whether a number is a multiple of another:\n",
            "Enter the first number:6\n",
            "Enter the Second number:12\n",
            "It is multiple\n"
          ]
        }
      ]
    },
    {
      "cell_type": "code",
      "source": [
        "print(\"Program to check whether the accepted number is +ve -ve or 0\")\n",
        "n=int(input(\"Enter a number:\"))\n",
        "if(n>=0):\n",
        "  if(n==0):\n",
        "   print(\"The number is zero\")\n",
        "  else:\n",
        "    print(\"The number is +ve\")\n",
        "else:\n",
        "  print(\"The number is -ve\")"
      ],
      "metadata": {
        "colab": {
          "base_uri": "https://localhost:8080/"
        },
        "id": "7hIBIEs-SscP",
        "outputId": "f2fa732f-33a1-4b0e-e5fd-ffcc0f7588ea"
      },
      "execution_count": null,
      "outputs": [
        {
          "output_type": "stream",
          "name": "stdout",
          "text": [
            "Program to check whether the accepted number is +ve -ve or 0\n",
            "Enter a number:-33\n",
            "The number is -ve\n"
          ]
        }
      ]
    },
    {
      "cell_type": "code",
      "source": [
        "print(\"Program to check whether the given number is 2 digit or not:\")\n",
        "n=int(input(\"Enter a number:\"))\n",
        "if(n>9 and n<100):\n",
        "  print(\"It is a 2 digit number\")\n",
        "else:\n",
        "  print(\"It is not a 2 digit number\")"
      ],
      "metadata": {
        "colab": {
          "base_uri": "https://localhost:8080/"
        },
        "id": "0BkORvW-TSr_",
        "outputId": "7be969f7-11ca-4513-e922-d2088591f07b"
      },
      "execution_count": null,
      "outputs": [
        {
          "output_type": "stream",
          "name": "stdout",
          "text": [
            "Program to check whether the given number is 2 digit or not:\n",
            "Enter a number:783473\n",
            "It is not a 2 digit number\n"
          ]
        }
      ]
    },
    {
      "cell_type": "code",
      "source": [
        "import math\n",
        "print(\"Program to find the distance between 2 points:\")\n",
        "x1=int(input(\"Enter the value of x1:\"))\n",
        "y1=int(input(\"Enter the value of y1:\"))\n",
        "x2=int(input(\"Enter the value of x2:\"))\n",
        "y2=int(input(\"Enter the value of y2:\"))\n",
        "d=math.sqrt(math.pow(x2-x1,2)+math.pow(y2-y1,2))\n",
        "print(\"The distance=\",d)"
      ],
      "metadata": {
        "id": "o-hgV9kiT5O_",
        "colab": {
          "base_uri": "https://localhost:8080/"
        },
        "outputId": "3f0d6b37-7f9d-456f-b7c2-680daa3f876d"
      },
      "execution_count": null,
      "outputs": [
        {
          "output_type": "stream",
          "name": "stdout",
          "text": [
            "Program to find the distance between 2 points:\n",
            "Enter the value of x1:2\n",
            "Enter the value of y1:3\n",
            "Enter the value of x2:4\n",
            "Enter the value of y2:5\n",
            "The distance= 2.8284271247461903\n"
          ]
        }
      ]
    },
    {
      "cell_type": "code",
      "source": [
        "print(\"Program to find the smallest of 3 numbers:\")\n",
        "a=int(input(\"Enter the first number :\"))\n",
        "b=int(input(\"Enter the second number:\"))\n",
        "c=int(input(\"Enter the third number:\"))\n",
        "s=a;\n",
        "if(a>b):\n",
        "  if(b<c):\n",
        "    s=b\n",
        "  else:\n",
        "    s=c\n",
        "elif(b>a):\n",
        "  if(a<c):\n",
        "    s=a\n",
        "  else:\n",
        "    s=c\n",
        "print(\"The Smallest number is:\",s)"
      ],
      "metadata": {
        "colab": {
          "base_uri": "https://localhost:8080/"
        },
        "id": "4ZtTZuTwXA8X",
        "outputId": "bd07ad4d-2a5f-4545-e082-a2ca5aa4be2b"
      },
      "execution_count": null,
      "outputs": [
        {
          "output_type": "stream",
          "name": "stdout",
          "text": [
            "Program to find the smallest of 3 numbers:\n",
            "Enter the first number :2323\n",
            "Enter the second number:23231\n",
            "Enter the third number:919\n",
            "The Smallest number is: 919\n"
          ]
        }
      ]
    },
    {
      "cell_type": "code",
      "source": [
        "print(\"Program to find the largest of 2 numbers:\")\n",
        "a=int(input(\"Enter 1st number:\"))\n",
        "b=int(input(\"Enter 2nd number:\"))\n",
        "if(a>b):\n",
        "  print(a,\"is greater\")\n",
        "else:\n",
        "  print(b,\"is greater\")"
      ],
      "metadata": {
        "colab": {
          "base_uri": "https://localhost:8080/"
        },
        "id": "RTKkHQpxYLRw",
        "outputId": "4806017b-aad8-47a4-a83a-9ba11829dfbc"
      },
      "execution_count": null,
      "outputs": [
        {
          "output_type": "stream",
          "name": "stdout",
          "text": [
            "Program to find the largest of 2 numbers:\n",
            "Enter 1st number:5\n",
            "Enter 2nd number:22\n",
            "22 is greater\n"
          ]
        }
      ]
    },
    {
      "cell_type": "code",
      "source": [
        "print(\"Program to print quotient and remainder:\")\n",
        "n =int(input(\"Enter a number:\"))\n",
        "a=int(input(\"Enter a number to divide it with:\"))\n",
        "d=n//a\n",
        "r=n%a\n",
        "print(d,\"is the quotient\",r,\"is the remainder\")"
      ],
      "metadata": {
        "colab": {
          "base_uri": "https://localhost:8080/"
        },
        "id": "98tibS4YYydB",
        "outputId": "11bb5fd1-d3ae-46e2-94b9-4545965a3de5"
      },
      "execution_count": null,
      "outputs": [
        {
          "output_type": "stream",
          "name": "stdout",
          "text": [
            "Program to print quotient and remainder:\n",
            "Enter a number:32\n",
            "Enter a number to divide it with:6\n",
            "5 is the quotient 2 is the remainder\n"
          ]
        }
      ]
    },
    {
      "cell_type": "code",
      "source": [
        "print(\"Program to swap variable:\")\n",
        "n1=int(input(\"Enter 1st number:\"))\n",
        "n2=int(input(\"Enter 2nd number:\"))\n",
        "n1=n1*n2\n",
        "n2=n1/n2\n",
        "n1=n1/n2\n",
        "print(\"1st Number=\",n1,\"2nd Number=\",n2)"
      ],
      "metadata": {
        "colab": {
          "base_uri": "https://localhost:8080/"
        },
        "id": "Ucz98-itZbYR",
        "outputId": "511df8e9-6b02-4e36-e933-8a7b50477266"
      },
      "execution_count": null,
      "outputs": [
        {
          "output_type": "stream",
          "name": "stdout",
          "text": [
            "Program to swap variable:\n",
            "Enter 1st number:6\n",
            "Enter 2nd number:8\n",
            "1st Number= 8.0 2nd Number= 6.0\n"
          ]
        }
      ]
    },
    {
      "cell_type": "code",
      "source": [
        "print(\"Program to print the values of AP.\")\n",
        "n=int(input(\"Enter the number of elements:\"))\n",
        "a=int(input(\"Enter the value of a:\"))\n",
        "d=int(input(\"Enter the value of d:\"))\n",
        "b=1;\n",
        "while(n>=b):\n",
        "  s=a+((b-1)*d)\n",
        "  print(s)\n",
        "  b=b+1\n",
        "\n"
      ],
      "metadata": {
        "colab": {
          "base_uri": "https://localhost:8080/"
        },
        "id": "PQIcuEP8a0vB",
        "outputId": "07b3f72e-74ef-40b8-bd7d-a0b5611896e1"
      },
      "execution_count": null,
      "outputs": [
        {
          "output_type": "stream",
          "name": "stdout",
          "text": [
            "Program to print the values of AP.\n",
            "Enter the number of elements:7\n",
            "Enter the value of a:3\n",
            "Enter the value of d:2\n",
            "3\n",
            "5\n",
            "7\n",
            "9\n",
            "11\n",
            "13\n",
            "15\n"
          ]
        }
      ]
    },
    {
      "cell_type": "code",
      "source": [
        "print(\"Program to accept number of days and convert into years months and weeks \")\n",
        "n=int(input(\"Enter the number of days:\"))\n",
        "year=n//365\n",
        "a=n%365;\n",
        "months=a//30\n",
        "days=a%30\n",
        "print(\"Number of years:\",year,\"Numbers of months:\",months,\"Number of days:\",days)"
      ],
      "metadata": {
        "colab": {
          "base_uri": "https://localhost:8080/"
        },
        "id": "WalRaBskH1YC",
        "outputId": "d2422d14-f7d9-4f51-b8bc-7bbcd31f14da"
      },
      "execution_count": null,
      "outputs": [
        {
          "output_type": "stream",
          "name": "stdout",
          "text": [
            "Program to accept number of days and convert into years months and weeks \n",
            "Enter the number of days:669\n",
            "Number of years: 1 Numbers of months: 10 Number of days: 4\n"
          ]
        }
      ]
    },
    {
      "cell_type": "code",
      "source": [
        "print(\"Program to convert seconds into hours mins and seconds:\")\n",
        "a=int(input(\"Enter the time:\"))\n",
        "sec=a%60\n",
        "hour=a//3600\n",
        "b=a%3600\n",
        "min=b//60\n",
        "print(\"The time \",a,\"seconds is\",hour,\"hours\",min,\"minutes\",sec,\"seconds\")\n"
      ],
      "metadata": {
        "colab": {
          "base_uri": "https://localhost:8080/"
        },
        "id": "jnlfSOiJJMwR",
        "outputId": "a13ef6aa-5112-45f1-a190-35621a814692"
      },
      "execution_count": null,
      "outputs": [
        {
          "output_type": "stream",
          "name": "stdout",
          "text": [
            "Program to convert seconds into hours mins and seconds:\n",
            "Enter the time:3669\n",
            "The time  3669 seconds is 1 hours 1 minutes 9 seconds\n"
          ]
        }
      ]
    },
    {
      "cell_type": "code",
      "source": [
        "import math\n",
        "print(\"Program to check whether a number is Automorphic or not\")\n",
        "n=int(input(\"Enter a number:\"))\n",
        "sq=n*n\n",
        "n1=n\n",
        "c=0\n",
        "while(n>0):\n",
        "    c=c+1\n",
        "    n=n//10\n",
        "a=sq%math.pow(10,c)\n",
        "if(a==n1):\n",
        "    print(\"The number is Automorphic\")\n",
        "else:\n",
        "    print(\"The number is not Automorphic\")\n"
      ],
      "metadata": {
        "id": "H14oeO5BIVZq",
        "colab": {
          "base_uri": "https://localhost:8080/"
        },
        "outputId": "472abce4-8bd1-40b1-be3f-b10868075383"
      },
      "execution_count": null,
      "outputs": [
        {
          "output_type": "stream",
          "name": "stdout",
          "text": [
            "Program to check whether a number is Automorphic or not\n",
            "Enter a number:76\n",
            "The number is Automorphic\n"
          ]
        }
      ]
    },
    {
      "cell_type": "code",
      "source": [
        "print(\"Program to print n elements of fibonocci series\")\n",
        "n=int(input(\"Enter the value of n:\"))\n",
        "a,b,c=0,1,1\n",
        "if(n==1):\n",
        "    print (a)\n",
        "elif(n==2):\n",
        "    print(a,b)\n",
        "else:\n",
        "    print(a)\n",
        "    print(b)\n",
        "    i=3\n",
        "    while(i<=n):\n",
        "        c=a+b\n",
        "        a=b\n",
        "        b=c\n",
        "        print(c)\n",
        "        i=i+1"
      ],
      "metadata": {
        "colab": {
          "base_uri": "https://localhost:8080/"
        },
        "id": "g-B_re3ZbHE3",
        "outputId": "3e07ab39-68da-4247-f5ec-07746174add5"
      },
      "execution_count": null,
      "outputs": [
        {
          "output_type": "stream",
          "name": "stdout",
          "text": [
            "Program to print n elements of fibonocci series\n",
            "Enter the value of n:10\n",
            "0\n",
            "1\n",
            "1\n",
            "2\n",
            "3\n",
            "5\n",
            "8\n",
            "13\n",
            "21\n",
            "34\n"
          ]
        }
      ]
    },
    {
      "cell_type": "code",
      "source": [
        "print(\"Program to print the decimal equalent of a binary number\")\n",
        "n=int(input(\"Enter the binary number:\"))\n",
        "s,i=0,0\n",
        "while(n>0):\n",
        "  r=n%10\n",
        "  s=s+(r*(math.pow(2,i)))\n",
        "  n=n//10\n",
        "  i=i+1\n",
        "print(\"The binary equalent is:\",s)"
      ],
      "metadata": {
        "colab": {
          "base_uri": "https://localhost:8080/"
        },
        "id": "S1Kh5-LbbRV1",
        "outputId": "6e4f6032-5c55-4de3-baec-961e01d5c77c"
      },
      "execution_count": null,
      "outputs": [
        {
          "output_type": "stream",
          "name": "stdout",
          "text": [
            "Program to print the decimal equalent of a binary number\n",
            "Enter the binary number:101\n",
            "The binary equalent is: 5.0\n"
          ]
        }
      ]
    },
    {
      "cell_type": "code",
      "source": [
        "print(\"Program to find the sum of factors of a number\")\n",
        "n=int(input(\"Enter a number:\"))\n",
        "i=1\n",
        "s=0\n",
        "while(i<=n):\n",
        "  if(n%i==0):\n",
        "    s=s+i\n",
        "  i=i+1\n",
        "print(\"Sum of factors=\",s)"
      ],
      "metadata": {
        "colab": {
          "base_uri": "https://localhost:8080/"
        },
        "id": "_dP_ayraeGTq",
        "outputId": "12eb3649-c1ba-452d-f565-a9bd3f721271"
      },
      "execution_count": null,
      "outputs": [
        {
          "output_type": "stream",
          "name": "stdout",
          "text": [
            "Program to find the sum of factors of a number\n",
            "Enter a number:6\n",
            "Sum of factors= 12\n"
          ]
        }
      ]
    },
    {
      "cell_type": "code",
      "source": [
        "print(\"Program to print the smallest digit in a 2 digit number:\")\n",
        "n=int(input(\"Emter the number:\"))\n",
        "a=n%10\n",
        "b=int(((n%100)-a)/10)\n",
        "if(a>b):\n",
        "  print(b,\"is smaller\")\n",
        "else:\n",
        "  print(a,\"is smaller\")"
      ],
      "metadata": {
        "colab": {
          "base_uri": "https://localhost:8080/"
        },
        "id": "rXzK2PpOI9Kn",
        "outputId": "055d47b5-8597-4214-8201-c404b0047dbd"
      },
      "execution_count": null,
      "outputs": [
        {
          "output_type": "stream",
          "name": "stdout",
          "text": [
            "Program to print the smallest digit in a 2 digit number:\n",
            "Emter the number:43\n",
            "3 is smaller\n"
          ]
        }
      ]
    },
    {
      "cell_type": "code",
      "source": [
        "print(\"Program to print the area of a circle:\")\n",
        "r=int(input(\"Enter the raius of the circle:\"))\n",
        "area=(22/7)*r*r\n",
        "print(\"The area of the circle=\",area)"
      ],
      "metadata": {
        "colab": {
          "base_uri": "https://localhost:8080/"
        },
        "id": "55OLFR-VJ09-",
        "outputId": "b5341d93-ec68-4bf3-e265-587925b012b2"
      },
      "execution_count": null,
      "outputs": [
        {
          "output_type": "stream",
          "name": "stdout",
          "text": [
            "Program to print the area of a circle:\n",
            "Enter the raius of the circle:66\n",
            "The area of the circle= 13690.285714285714\n"
          ]
        }
      ]
    },
    {
      "cell_type": "code",
      "source": [
        "print(\"Program to print the sum and average of three numbers:\")\n",
        "a=int(input(\"Enter the first number:\"))\n",
        "b=int(input(\"Enter the second number:\"))\n",
        "c=int(input(\"Enter the third number:\"))\n",
        "s=a+b+c\n",
        "avg=s/3\n",
        "print(\"The sum=\",s,\"The average=\",avg)"
      ],
      "metadata": {
        "colab": {
          "base_uri": "https://localhost:8080/"
        },
        "id": "M4G0j-dCKT5P",
        "outputId": "d7ffa39e-9fae-44d5-a9ce-ff24ebbf1447"
      },
      "execution_count": null,
      "outputs": [
        {
          "output_type": "stream",
          "name": "stdout",
          "text": [
            "Program to print the sum and average of three numbers:\n",
            "Enter the first number:4\n",
            "Enter the second number:5\n",
            "Enter the third number:6\n",
            "The sum= 15 The average= 5.0\n"
          ]
        }
      ]
    },
    {
      "cell_type": "code",
      "source": [
        "import math\n",
        "print(\"Program to print the area and perimeter of a triangle:\")\n",
        "a=int(input(\"Enter the First side:\"))\n",
        "b=int(input(\"Enter the Second side:\"))\n",
        "c=int(input(\"Enter the Third side:\"))\n",
        "p=a+b+c\n",
        "s=(a+b+c)/2\n",
        "area=math.sqrt(s*(s-a)*(s-b)*(s-c))\n",
        "print(\"The area=\",area,\"The perimeter=\",p)"
      ],
      "metadata": {
        "colab": {
          "base_uri": "https://localhost:8080/"
        },
        "id": "4FI4mVAYK35I",
        "outputId": "abe7c306-93b2-4ef5-f924-510a90d2e361"
      },
      "execution_count": null,
      "outputs": [
        {
          "output_type": "stream",
          "name": "stdout",
          "text": [
            "Program to print the area and perimeter of a triangle:\n",
            "Enter the First side:3\n",
            "Enter the Second side:3\n",
            "Enter the Third side:4\n",
            "The area= 4.47213595499958 The perimeter= 10\n"
          ]
        }
      ]
    }
  ]
}