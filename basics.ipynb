{
  "cells": [
    {
      "cell_type": "markdown",
      "metadata": {
        "id": "view-in-github",
        "colab_type": "text"
      },
      "source": [
        "<a href=\"https://colab.research.google.com/github/jeslinpjames/python_lab/blob/main/basics.ipynb\" target=\"_parent\"><img src=\"https://colab.research.google.com/assets/colab-badge.svg\" alt=\"Open In Colab\"/></a>"
      ]
    },
    {
      "cell_type": "code",
      "execution_count": null,
      "metadata": {
        "colab": {
          "base_uri": "https://localhost:8080/"
        },
        "id": "waSwrdipxrH9",
        "outputId": "b434eeba-8450-4adf-a1ef-8dba2b5e01e1"
      },
      "outputs": [
        {
          "name": "stdout",
          "output_type": "stream",
          "text": [
            "hello world\n"
          ]
        }
      ],
      "source": [
        "-print ('hello world')"
      ]
    },
    {
      "cell_type": "code",
      "execution_count": null,
      "metadata": {
        "id": "ys19mbmiwVGu"
      },
      "outputs": [],
      "source": []
    },
    {
      "cell_type": "code",
      "execution_count": null,
      "metadata": {
        "colab": {
          "base_uri": "https://localhost:8080/"
        },
        "id": "O-6hYfZh0XdW",
        "outputId": "755b0725-a55e-4f59-edf0-d0f1a77344d5"
      },
      "outputs": [
        {
          "name": "stdout",
          "output_type": "stream",
          "text": [
            "5\n",
            "<class 'int'>\n"
          ]
        }
      ],
      "source": [
        "\n",
        "a=5\n",
        "print(a)\n",
        "print (type(a))\n"
      ]
    },
    {
      "cell_type": "code",
      "execution_count": null,
      "metadata": {
        "colab": {
          "base_uri": "https://localhost:8080/"
        },
        "id": "vI6uhiN_0juL",
        "outputId": "c2b2a9e9-58f3-454f-d283-dd623860c3b4"
      },
      "outputs": [
        {
          "name": "stdout",
          "output_type": "stream",
          "text": [
            "1.8\n",
            "<class 'int'>\n"
          ]
        }
      ],
      "source": [
        "f =1.8\n",
        "print(f)\n",
        "print(type(a))\n"
      ]
    },
    {
      "cell_type": "code",
      "execution_count": null,
      "metadata": {
        "colab": {
          "base_uri": "https://localhost:8080/"
        },
        "id": "bq75DPEd0wja",
        "outputId": "ec402eca-92ab-4f31-af85-7fbe2131643e"
      },
      "outputs": [
        {
          "name": "stdout",
          "output_type": "stream",
          "text": [
            "hello\n",
            "<class 'str'>\n"
          ]
        }
      ],
      "source": [
        "s= 'hello'\n",
        "print (s)\n",
        "print(type(s))"
      ]
    },
    {
      "cell_type": "code",
      "execution_count": null,
      "metadata": {
        "colab": {
          "base_uri": "https://localhost:8080/"
        },
        "id": "BbH0rHM11VD0",
        "outputId": "05392879-c1a6-40b8-a71a-66d970435a33"
      },
      "outputs": [
        {
          "name": "stdout",
          "output_type": "stream",
          "text": [
            "False\n",
            "<class 'bool'>\n"
          ]
        }
      ],
      "source": [
        "b = False\n",
        "print (b)\n",
        "print(type(b)) \n"
      ]
    },
    {
      "cell_type": "code",
      "execution_count": null,
      "metadata": {
        "colab": {
          "base_uri": "https://localhost:8080/"
        },
        "id": "n8o2DcmH2d5x",
        "outputId": "553e7424-b9db-4b94-bbe5-ef976d8b910c"
      },
      "outputs": [
        {
          "name": "stdout",
          "output_type": "stream",
          "text": [
            "(8+6j)\n",
            "<class 'complex'>\n"
          ]
        }
      ],
      "source": [
        "c= 8+6j\n",
        "print(c)\n",
        "print(type(c))"
      ]
    },
    {
      "cell_type": "code",
      "execution_count": null,
      "metadata": {
        "colab": {
          "base_uri": "https://localhost:8080/"
        },
        "id": "st7sCrdADV45",
        "outputId": "a7f3a248-9991-47a2-e17b-ad237353f235"
      },
      "outputs": [
        {
          "name": "stdout",
          "output_type": "stream",
          "text": [
            "0  \n",
            "1  \n",
            "2  \n",
            "3  \n",
            "4  \n"
          ]
        }
      ],
      "source": [
        "for i in range(5):\n",
        "  print(i,\" \")"
      ]
    },
    {
      "cell_type": "code",
      "execution_count": null,
      "metadata": {
        "colab": {
          "base_uri": "https://localhost:8080/"
        },
        "id": "UCBNlrXM2-RK",
        "outputId": "9a715ad3-8c16-4a25-e872-93239804a787"
      },
      "outputs": [
        {
          "name": "stdout",
          "output_type": "stream",
          "text": [
            "14\n",
            "2\n",
            "48\n",
            "1.3333333333333333\n",
            "2\n",
            "262144\n"
          ]
        }
      ],
      "source": [
        "\n",
        "a=8\n",
        "b=6\n",
        "ab_add=a+b\n",
        "print(ab_add) \n",
        "ab_diff=a-b\n",
        "print(ab_diff)\n",
        "ab_multi= a*b\n",
        "print(ab_multi)\n",
        "ab_div =a/b\n",
        "print(ab_div)\n",
        "ab_mod=a%b\n",
        "print(ab_mod)\n",
        "ab_pow=a**b\n",
        "print (ab_pow)"
      ]
    },
    {
      "cell_type": "code",
      "execution_count": null,
      "metadata": {
        "colab": {
          "base_uri": "https://localhost:8080/"
        },
        "id": "xnQ7Sjxv4uGy",
        "outputId": "81262f52-9718-4634-91bb-3644eb78f372"
      },
      "outputs": [
        {
          "name": "stdout",
          "output_type": "stream",
          "text": [
            "4.0\n"
          ]
        }
      ],
      "source": [
        "a=3\n",
        "b=4\n",
        "c=5\n",
        "avg=(a+b+c)/3\n",
        "print(avg)"
      ]
    },
    {
      "cell_type": "code",
      "execution_count": null,
      "metadata": {
        "colab": {
          "base_uri": "https://localhost:8080/"
        },
        "id": "9HhNIBpR6GiI",
        "outputId": "55a9ea15-a5b5-4476-a7bb-aaf6f9f49db1"
      },
      "outputs": [
        {
          "name": "stdout",
          "output_type": "stream",
          "text": [
            "enter no 1 3\n",
            "enter no 2 3\n",
            "enter no 3 3\n",
            "the avg is  3.0\n"
          ]
        }
      ],
      "source": [
        "a=int(input('enter no 1 '))\n",
        "b=int(input('enter no 2 '))\n",
        "c=int(input('enter no 3 '))\n",
        "avg=(a+b+c)/3\n",
        "print('the avg is ',avg)\n",
        "\n"
      ]
    },
    {
      "cell_type": "code",
      "execution_count": null,
      "metadata": {
        "colab": {
          "base_uri": "https://localhost:8080/"
        },
        "id": "TCl0bb-E9-5A",
        "outputId": "1b754370-cded-4b4f-e99c-bf387137dc15"
      },
      "outputs": [
        {
          "name": "stdout",
          "output_type": "stream",
          "text": [
            "enter base12\n",
            "enter height123\n",
            "738.0\n"
          ]
        }
      ],
      "source": [
        "#area and perimeter of a triangle\n",
        "base=int(input('enter base'))\n",
        "altitude= int(input('enter height'))\n",
        "\n",
        "area = (1/2)*(base*altitude)\n",
        "print(area)"
      ]
    },
    {
      "cell_type": "code",
      "execution_count": null,
      "metadata": {
        "colab": {
          "base_uri": "https://localhost:8080/"
        },
        "id": "jSqSwJp8B3cl",
        "outputId": "4be49c23-db9a-4b1a-b554-7eb743b5ab38"
      },
      "outputs": [
        {
          "name": "stdout",
          "output_type": "stream",
          "text": [
            "Enter the Value of the First Side 55\n",
            "Enter the Value of the Second Side 33\n",
            "Enter the Value of the Third Side 44\n",
            "The Perimeteter is  132\n",
            "The Area is  726.0\n"
          ]
        }
      ],
      "source": [
        "A=int(input(\"Enter the Value of the First Side \"))\n",
        "B=int(input(\"Enter the Value of the Second Side \"))\n",
        "C=int(input(\"Enter the Value of the Third Side \"))\n",
        "P=A+B+C\n",
        "S=P/2\n",
        "import math\n",
        "Area=math.sqrt(S*(S-A)*(S-B)*(S-C))\n",
        "print(\"The Perimeteter is \",P)\n",
        "print(\"The Area is \",Area)\n"
      ]
    },
    {
      "cell_type": "code",
      "execution_count": null,
      "metadata": {
        "colab": {
          "base_uri": "https://localhost:8080/"
        },
        "id": "5HHDKZM5FzRz",
        "outputId": "0ea252c3-2132-4ff0-c107-ab39495759e3"
      },
      "outputs": [
        {
          "name": "stdout",
          "output_type": "stream",
          "text": [
            "hello\n",
            "hello\n"
          ]
        }
      ],
      "source": [
        "s=\"hello\"\n",
        "u=\"hello\"\n",
        "print(s)\n",
        "print(u)"
      ]
    },
    {
      "cell_type": "code",
      "execution_count": null,
      "metadata": {
        "colab": {
          "base_uri": "https://localhost:8080/"
        },
        "id": "GfZcILOnGJNS",
        "outputId": "6e15148a-88b8-408c-a7e1-20520207fb16"
      },
      "outputs": [
        {
          "name": "stdout",
          "output_type": "stream",
          "text": [
            "Python World\n"
          ]
        }
      ],
      "source": [
        "s1=\"Python\"\n",
        "s2=\"World\"\n",
        "s3=s1+\" \"+s2\n",
        "print(s3)"
      ]
    },
    {
      "cell_type": "code",
      "execution_count": null,
      "metadata": {
        "colab": {
          "base_uri": "https://localhost:8080/"
        },
        "id": "XFXVRjrMGWNg",
        "outputId": "3d8aa539-13bd-4365-f0bc-45055e4ff6af"
      },
      "outputs": [
        {
          "name": "stdout",
          "output_type": "stream",
          "text": [
            "12\n"
          ]
        }
      ],
      "source": [
        "print(len(s3))"
      ]
    },
    {
      "cell_type": "code",
      "execution_count": null,
      "metadata": {
        "colab": {
          "base_uri": "https://localhost:8080/"
        },
        "id": "Bb9kU9dhG4cx",
        "outputId": "92127b62-f5a0-4fd6-f71c-4d8e1647a9e6"
      },
      "outputs": [
        {
          "name": "stdout",
          "output_type": "stream",
          "text": [
            "PYTHON WORLD\n"
          ]
        }
      ],
      "source": [
        "print(s3.upper())"
      ]
    },
    {
      "cell_type": "code",
      "execution_count": null,
      "metadata": {
        "colab": {
          "base_uri": "https://localhost:8080/"
        },
        "id": "gbiMsBNNHFgY",
        "outputId": "be31a49b-4f9a-45af-efd8-892bf0d32121"
      },
      "outputs": [
        {
          "name": "stdout",
          "output_type": "stream",
          "text": [
            "Python world\n"
          ]
        }
      ],
      "source": [
        "print(s3.capitalize())"
      ]
    },
    {
      "cell_type": "code",
      "execution_count": null,
      "metadata": {
        "colab": {
          "base_uri": "https://localhost:8080/"
        },
        "id": "0qGLvAyHHRZH",
        "outputId": "8b04ab90-fb29-4c23-9d74-93f6f1c4469f"
      },
      "outputs": [
        {
          "name": "stdout",
          "output_type": "stream",
          "text": [
            "python world\n"
          ]
        }
      ],
      "source": [
        "print(s3.lower())"
      ]
    },
    {
      "cell_type": "code",
      "execution_count": null,
      "metadata": {
        "colab": {
          "base_uri": "https://localhost:8080/"
        },
        "id": "91X7Qh-zHYcl",
        "outputId": "499a9da2-2e64-4af5-fc14-8970ca0deeeb"
      },
      "outputs": [
        {
          "name": "stdout",
          "output_type": "stream",
          "text": [
            "['Hello', 'World', 'How', 'are', 'You?', '']\n"
          ]
        }
      ],
      "source": [
        "print(\"Hello World How are You? \".split(\" \"))"
      ]
    },
    {
      "cell_type": "code",
      "execution_count": null,
      "metadata": {
        "colab": {
          "base_uri": "https://localhost:8080/"
        },
        "id": "2524JEvxHob8",
        "outputId": "eb6a6c25-4a88-4e99-b9a2-73e62ae5491a"
      },
      "outputs": [
        {
          "name": "stdout",
          "output_type": "stream",
          "text": [
            "beek \n"
          ]
        }
      ],
      "source": [
        "print(\"book \".replace('o','e'))"
      ]
    },
    {
      "cell_type": "code",
      "execution_count": null,
      "metadata": {
        "colab": {
          "base_uri": "https://localhost:8080/"
        },
        "id": "0ZqMkm5T_00X",
        "outputId": "8299567a-7894-4983-dd8a-2269eeb4aeb7"
      },
      "outputs": [
        {
          "name": "stdout",
          "output_type": "stream",
          "text": [
            "15\n"
          ]
        }
      ],
      "source": [
        "n=1257\n",
        "i=n\n",
        "s=0\n",
        "while n>0:\n",
        "  r=n%10\n",
        "  s=s+r\n",
        "  n=n//10\n",
        "print(s)"
      ]
    },
    {
      "cell_type": "code",
      "execution_count": null,
      "metadata": {
        "colab": {
          "base_uri": "https://localhost:8080/"
        },
        "id": "k2UE1poxH0xu",
        "outputId": "fe9257f7-439b-4771-c37b-b5e639e6259e"
      },
      "outputs": [
        {
          "name": "stdout",
          "output_type": "stream",
          "text": [
            "0\n",
            "-1\n"
          ]
        }
      ],
      "source": [
        "word=\"HELLO WORLD\"\n",
        "print(word.find('H'))\n",
        "print(word.find(\"K\"))"
      ]
    },
    {
      "cell_type": "code",
      "execution_count": null,
      "metadata": {
        "colab": {
          "base_uri": "https://localhost:8080/"
        },
        "id": "2DdQLghKJITJ",
        "outputId": "a148528d-c428-4339-ba46-4a2acd872dcd"
      },
      "outputs": [
        {
          "name": "stdout",
          "output_type": "stream",
          "text": [
            "Enter the Number444\n"
          ]
        }
      ],
      "source": [
        "a=int(input(\"Enter the Number\"))\n",
        "s=a\n",
        "b=0\n",
        "while s>0:\n",
        "  r=s%10\n",
        "  s=s//10\n",
        "  b=b*10+r\n",
        "  "
      ]
    },
    {
      "cell_type": "code",
      "execution_count": null,
      "metadata": {
        "colab": {
          "base_uri": "https://localhost:8080/"
        },
        "id": "hXInzPNsMntN",
        "outputId": "849786e0-dfcb-4b2f-ceca-e459da1b82bb"
      },
      "outputs": [
        {
          "name": "stdout",
          "output_type": "stream",
          "text": [
            "Enter a number333\n",
            "3 digit\n"
          ]
        }
      ],
      "source": [
        "number=int(input(\"Enter a number\"))\n",
        "if number > 99 and number < 1000 :\n",
        "  print(\"3 digit\")\n",
        "else:\n",
        "    print(\"Not 3 Digit\")"
      ]
    },
    {
      "cell_type": "code",
      "execution_count": null,
      "metadata": {
        "colab": {
          "base_uri": "https://localhost:8080/"
        },
        "id": "R5IYAvZE4w7W",
        "outputId": "bc2a4681-bfd3-4d3a-a678-4a1150284dfe"
      },
      "outputs": [
        {
          "name": "stdout",
          "output_type": "stream",
          "text": [
            "Enter a number:1\n",
            "Enter anther number:100\n",
            "Enter the value of step:10\n",
            "1\n",
            "11\n",
            "21\n",
            "31\n",
            "41\n",
            "51\n",
            "61\n",
            "71\n",
            "81\n",
            "91\n"
          ]
        }
      ],
      "source": [
        "m=int(input(\"Enter a number:\"))\n",
        "n=int(input(\"Enter anther number:\"))\n",
        "k=int(input(\"Enter the value of step:\"))\n",
        "i=m \n",
        "while i<=n :\n",
        "  print(i)\n",
        "  i=i+k"
      ]
    },
    {
      "cell_type": "markdown",
      "metadata": {
        "id": "8NhvI8Nc2gk0"
      },
      "source": [
        "\n",
        "\n",
        "```\n",
        "# This is formatted as code\n",
        "```\n",
        "\n",
        "**RAPTOR TO PYTHON**"
      ]
    },
    {
      "cell_type": "code",
      "execution_count": null,
      "metadata": {
        "colab": {
          "base_uri": "https://localhost:8080/"
        },
        "id": "FTEwLSzhRVyk",
        "outputId": "c8715663-8c5e-4601-870e-4eac027339bf"
      },
      "outputs": [
        {
          "name": "stdout",
          "output_type": "stream",
          "text": [
            "Enter a number to find Factorial:6\n",
            "The Factorial is : 720\n"
          ]
        }
      ],
      "source": [
        "n =int(input(\"Enter a number to find Factorial:\"))\n",
        "f=1\n",
        "while n>0:\n",
        "  f=f*n\n",
        "  n=n-1\n",
        "print(\"The Factorial is :\",f)  \n"
      ]
    },
    {
      "cell_type": "code",
      "execution_count": null,
      "metadata": {
        "colab": {
          "base_uri": "https://localhost:8080/"
        },
        "id": "DuyEHnKzvmFK",
        "outputId": "d80a629a-d882-4111-ad61-642b6cc9e4eb"
      },
      "outputs": [
        {
          "name": "stdout",
          "output_type": "stream",
          "text": [
            "Program to find the GCD of two numbers:\n",
            "Enter 1st Number:24\n",
            "Enter 2nd Number:16\n",
            "The GCD is : 8\n"
          ]
        }
      ],
      "source": [
        "print(\"Program to find the GCD of two numbers:\")\n",
        "a=int(input(\"Enter 1st Number:\"))\n",
        "b=int(input(\"Enter 2nd Number:\"))\n",
        "if a<b:\n",
        "  a,b=b,a\n",
        "for i in range(b,0,-1):\n",
        "  if a % i==0 and b % i==0 :\n",
        "    break\n",
        "print(\"The GCD is :\",i)"
      ]
    },
    {
      "cell_type": "code",
      "execution_count": null,
      "metadata": {
        "colab": {
          "base_uri": "https://localhost:8080/"
        },
        "id": "jdtBg35O00tD",
        "outputId": "2d7bddec-d068-4448-cd00-ad3ab31c6c31"
      },
      "outputs": [
        {
          "name": "stdout",
          "output_type": "stream",
          "text": [
            "Program to Print first n  Odd numbers:\n",
            "Enter the value of N:5\n",
            "1  \n",
            "3  \n",
            "5  \n",
            "7  \n",
            "9  \n"
          ]
        }
      ],
      "source": [
        "print(\"Program to Print first n  Odd numbers:\")\n",
        "n =int(input(\"Enter the value of N:\"))\n",
        "for i in range(1,n*2,2):\n",
        "  print(i,\" \")"
      ]
    },
    {
      "cell_type": "code",
      "execution_count": null,
      "metadata": {
        "colab": {
          "base_uri": "https://localhost:8080/"
        },
        "id": "ZyqRb7K52V9s",
        "outputId": "4c1642da-ad12-46b4-fb5e-94438f2ff229"
      },
      "outputs": [
        {
          "name": "stdout",
          "output_type": "stream",
          "text": [
            "Program to find the value of x^n\n",
            "Enter the value of X:3\n",
            "Enter the value of n:2\n",
            "The value of X^n= 9\n"
          ]
        }
      ],
      "source": [
        "print(\"Program to find the value of x^n\")\n",
        "x =int(input(\"Enter the value of X:\"))\n",
        "n=int(input(\"Enter the value of n:\"))\n",
        "a=1\n",
        "while(n>0):\n",
        "  a=a*x\n",
        "  n=n-1\n",
        "print(\"The value of X^n=\",a)"
      ]
    },
    {
      "cell_type": "code",
      "execution_count": null,
      "metadata": {
        "colab": {
          "base_uri": "https://localhost:8080/"
        },
        "id": "xYvsOIbf5UBm",
        "outputId": "0d7e66bc-f505-4e25-a14e-5675cb96022f"
      },
      "outputs": [
        {
          "name": "stdout",
          "output_type": "stream",
          "text": [
            "Program to check whether the givem number is Armstrong or not :\n",
            "Enter the Number:153\n",
            "The Number is Armstrong\n"
          ]
        }
      ],
      "source": [
        "import math\n",
        "print(\"Program to check whether the givem number is Armstrong or not :\")\n",
        "a=int(input(\"Enter the Number:\"))\n",
        "b=a\n",
        "c=0\n",
        "s=0\n",
        "while(a>0):\n",
        "  a=a//10\n",
        "  c=c+1\n",
        "a=b\n",
        "while(a>0):\n",
        "  r=a%10\n",
        "  s=s+math.pow(r,c)\n",
        "  a=a//10\n",
        "if(b==s):\n",
        "  print(\"The Number is Armstrong\")\n",
        "else :\n",
        "  print(\"The Number is not Armstrong\")\n"
      ]
    },
    {
      "cell_type": "code",
      "execution_count": null,
      "metadata": {
        "colab": {
          "base_uri": "https://localhost:8080/"
        },
        "id": "ca75_EjkAN-x",
        "outputId": "b50199fb-4e67-44d4-9ab7-26f662de9c39"
      },
      "outputs": [
        {
          "name": "stdout",
          "output_type": "stream",
          "text": [
            "Program to check whether the givem number is Palindrome or not :\n",
            "Enter the Number:121\n",
            "The Number is Palindrome\n"
          ]
        }
      ],
      "source": [
        "print(\"Program to check whether the givem number is Palindrome or not :\")\n",
        "a=int(input(\"Enter the Number:\"))\n",
        "b=a\n",
        "s=0\n",
        "while(a>0):\n",
        "  r=a%10\n",
        "  s=s*10+r\n",
        "  a=a//10\n",
        "if(b==s):\n",
        "  print(\"The Number is Palindrome\")\n",
        "else :\n",
        "  print(\"The Number is not Palindrome\")\n"
      ]
    },
    {
      "cell_type": "code",
      "execution_count": null,
      "metadata": {
        "colab": {
          "base_uri": "https://localhost:8080/"
        },
        "id": "kv1C-f848ple",
        "outputId": "24dd9036-802a-4eb8-8a73-cec1236ca9bf"
      },
      "outputs": [
        {
          "name": "stdout",
          "output_type": "stream",
          "text": [
            "Enter a number:33\n",
            "The Number is not Prime.\n"
          ]
        }
      ],
      "source": [
        "n=int(input(\"Enter a number:\"))\n",
        "f=2\n",
        "c=0\n",
        "while f<=n/2 :\n",
        "  if n % f ==0 :\n",
        "    c=c+1\n",
        "    break\n",
        "  f=f+1\n",
        "if(c==0):\n",
        "  print(\"The Number is Prime.\")\n",
        "else:\n",
        "     print(\"The Number is not Prime.\")\n"
      ]
    },
    {
      "cell_type": "code",
      "execution_count": null,
      "metadata": {
        "colab": {
          "base_uri": "https://localhost:8080/"
        },
        "id": "uzzwlDBY_CBj",
        "outputId": "74b799a1-d386-4fbc-b8a6-3b4afb8bffb7"
      },
      "outputs": [
        {
          "name": "stdout",
          "output_type": "stream",
          "text": [
            "Program to find the sum of Factors of a number:\n",
            "Enter a number:6\n",
            "Sum of factors: 12\n"
          ]
        }
      ],
      "source": [
        "print(\"Program to find the sum of Factors of a number:\")\n",
        "n=int(input(\"Enter a number:\"))\n",
        "i=1\n",
        "s=0\n",
        "while(i<=n):\n",
        "  if(n%i==0):\n",
        "    s=s+i\n",
        "  i=i+1\n",
        "print(\"Sum of factors:\",s)\n"
      ]
    },
    {
      "cell_type": "code",
      "execution_count": null,
      "metadata": {
        "colab": {
          "base_uri": "https://localhost:8080/"
        },
        "id": "-Ei3ZmxMNXKG",
        "outputId": "9d67fcc1-bc30-4382-abc9-dde1e5c1d8b5"
      },
      "outputs": [
        {
          "name": "stdout",
          "output_type": "stream",
          "text": [
            "Program to print sum of n natural numbers:\n",
            "Enter the number:5\n",
            "The sum = 15\n"
          ]
        }
      ],
      "source": [
        "print(\"Program to print sum of n natural numbers:\")\n",
        "n=int(input(\"Enter the number:\"))\n",
        "s,i=0,0\n",
        "while(i<=n):\n",
        "  s=s+i\n",
        "  i=i+1\n",
        "print(\"The sum =\",s)"
      ]
    },
    {
      "cell_type": "code",
      "execution_count": null,
      "metadata": {
        "colab": {
          "base_uri": "https://localhost:8080/"
        },
        "id": "2GXqxeYyOY_u",
        "outputId": "e5c33ef1-4c5e-4c53-86b6-079bfbd23099"
      },
      "outputs": [
        {
          "name": "stdout",
          "output_type": "stream",
          "text": [
            "Program to Print the reverse of a number:\n",
            "Enter the Number:369\n",
            "The Number after reversing= 963\n"
          ]
        }
      ],
      "source": [
        "print(\"Program to Print the reverse of a number:\")\n",
        "a=int(input(\"Enter the Number:\"))\n",
        "b=a\n",
        "s=0\n",
        "while(a>0):\n",
        "  r=a%10\n",
        "  s=s*10+r\n",
        "  a=a//10\n",
        "print(\"The Number after reversing=\",s)\n"
      ]
    },
    {
      "cell_type": "code",
      "execution_count": null,
      "metadata": {
        "colab": {
          "base_uri": "https://localhost:8080/"
        },
        "id": "e6my8OFqOp9-",
        "outputId": "1f219242-43f4-4a17-f4f1-4f84792bc6dc"
      },
      "outputs": [
        {
          "name": "stdout",
          "output_type": "stream",
          "text": [
            "Program to print the nature of Quadratic equations:\n",
            "Enter the value of a: 4\n",
            "Enter the value of b: 5\n",
            "Enter the value of c  7\n",
            "The roots are imaginary and Unequal\n"
          ]
        }
      ],
      "source": [
        "print(\"Program to print the nature of Quadratic equations:\")\n",
        "a=int(input(\"Enter the value of a: \"))\n",
        "b=int(input(\"Enter the value of b: \"))\n",
        "c=int(input(\"Enter the value of c  \"))\n",
        "d=(b*b)-4*(a*c)\n",
        "if(d==0):\n",
        "  print(\"The roots are real and equal\")\n",
        "else:\n",
        "  if(d>0):\n",
        "    print(\"The roots are real and unequal\")\n",
        "  else:\n",
        "      print(\"The roots are imaginary and Unequal\")\n",
        "  "
      ]
    },
    {
      "cell_type": "code",
      "execution_count": null,
      "metadata": {
        "colab": {
          "base_uri": "https://localhost:8080/"
        },
        "id": "fVcm74tjQx2W",
        "outputId": "ce34e724-a516-4078-a0df-32f371268911"
      },
      "outputs": [
        {
          "name": "stdout",
          "output_type": "stream",
          "text": [
            "Program to check whether a number is a multiple of another:\n",
            "Enter the first number:6\n",
            "Enter the Second number:12\n",
            "It is multiple\n"
          ]
        }
      ],
      "source": [
        "print(\"Program to check whether a number is a multiple of another:\")\n",
        "a=int(input(\"Enter the first number:\"))\n",
        "b=int(input(\"Enter the Second number:\"))\n",
        "if(a>b):\n",
        "  if(a%b==0):\n",
        "    print(\"It is a multiple\")\n",
        "  else:\n",
        "    print(\"It is not a multiple\")\n",
        "else:\n",
        "  if(b%a==0):\n",
        "    print(\"It is multiple\")\n",
        "  else:\n",
        "    print(\"It is not a multiple\")"
      ]
    },
    {
      "cell_type": "code",
      "execution_count": null,
      "metadata": {
        "colab": {
          "base_uri": "https://localhost:8080/"
        },
        "id": "7hIBIEs-SscP",
        "outputId": "f2fa732f-33a1-4b0e-e5fd-ffcc0f7588ea"
      },
      "outputs": [
        {
          "name": "stdout",
          "output_type": "stream",
          "text": [
            "Program to check whether the accepted number is +ve -ve or 0\n",
            "Enter a number:-33\n",
            "The number is -ve\n"
          ]
        }
      ],
      "source": [
        "print(\"Program to check whether the accepted number is +ve -ve or 0\")\n",
        "n=int(input(\"Enter a number:\"))\n",
        "if(n>=0):\n",
        "  if(n==0):\n",
        "   print(\"The number is zero\")\n",
        "  else:\n",
        "    print(\"The number is +ve\")\n",
        "else:\n",
        "  print(\"The number is -ve\")"
      ]
    },
    {
      "cell_type": "code",
      "execution_count": null,
      "metadata": {
        "colab": {
          "base_uri": "https://localhost:8080/"
        },
        "id": "0BkORvW-TSr_",
        "outputId": "7be969f7-11ca-4513-e922-d2088591f07b"
      },
      "outputs": [
        {
          "name": "stdout",
          "output_type": "stream",
          "text": [
            "Program to check whether the given number is 2 digit or not:\n",
            "Enter a number:783473\n",
            "It is not a 2 digit number\n"
          ]
        }
      ],
      "source": [
        "print(\"Program to check whether the given number is 2 digit or not:\")\n",
        "n=int(input(\"Enter a number:\"))\n",
        "if(n>9 and n<100):\n",
        "  print(\"It is a 2 digit number\")\n",
        "else:\n",
        "  print(\"It is not a 2 digit number\")"
      ]
    },
    {
      "cell_type": "code",
      "execution_count": null,
      "metadata": {
        "colab": {
          "base_uri": "https://localhost:8080/"
        },
        "id": "o-hgV9kiT5O_",
        "outputId": "3f0d6b37-7f9d-456f-b7c2-680daa3f876d"
      },
      "outputs": [
        {
          "name": "stdout",
          "output_type": "stream",
          "text": [
            "Program to find the distance between 2 points:\n",
            "Enter the value of x1:2\n",
            "Enter the value of y1:3\n",
            "Enter the value of x2:4\n",
            "Enter the value of y2:5\n",
            "The distance= 2.8284271247461903\n"
          ]
        }
      ],
      "source": [
        "import math\n",
        "print(\"Program to find the distance between 2 points:\")\n",
        "x1=int(input(\"Enter the value of x1:\"))\n",
        "y1=int(input(\"Enter the value of y1:\"))\n",
        "x2=int(input(\"Enter the value of x2:\"))\n",
        "y2=int(input(\"Enter the value of y2:\"))\n",
        "d=math.sqrt(math.pow(x2-x1,2)+math.pow(y2-y1,2))\n",
        "print(\"The distance=\",d)"
      ]
    },
    {
      "cell_type": "code",
      "execution_count": null,
      "metadata": {
        "colab": {
          "base_uri": "https://localhost:8080/"
        },
        "id": "4ZtTZuTwXA8X",
        "outputId": "bd07ad4d-2a5f-4545-e082-a2ca5aa4be2b"
      },
      "outputs": [
        {
          "name": "stdout",
          "output_type": "stream",
          "text": [
            "Program to find the smallest of 3 numbers:\n",
            "Enter the first number :2323\n",
            "Enter the second number:23231\n",
            "Enter the third number:919\n",
            "The Smallest number is: 919\n"
          ]
        }
      ],
      "source": [
        "print(\"Program to find the smallest of 3 numbers:\")\n",
        "a=int(input(\"Enter the first number :\"))\n",
        "b=int(input(\"Enter the second number:\"))\n",
        "c=int(input(\"Enter the third number:\"))\n",
        "s=a;\n",
        "if(a>b):\n",
        "  if(b<c):\n",
        "    s=b\n",
        "  else:\n",
        "    s=c\n",
        "elif(b>a):\n",
        "  if(a<c):\n",
        "    s=a\n",
        "  else:\n",
        "    s=c\n",
        "print(\"The Smallest number is:\",s)"
      ]
    },
    {
      "cell_type": "code",
      "execution_count": null,
      "metadata": {
        "colab": {
          "base_uri": "https://localhost:8080/"
        },
        "id": "RTKkHQpxYLRw",
        "outputId": "4806017b-aad8-47a4-a83a-9ba11829dfbc"
      },
      "outputs": [
        {
          "name": "stdout",
          "output_type": "stream",
          "text": [
            "Program to find the largest of 2 numbers:\n",
            "Enter 1st number:5\n",
            "Enter 2nd number:22\n",
            "22 is greater\n"
          ]
        }
      ],
      "source": [
        "print(\"Program to find the largest of 2 numbers:\")\n",
        "a=int(input(\"Enter 1st number:\"))\n",
        "b=int(input(\"Enter 2nd number:\"))\n",
        "if(a>b):\n",
        "  print(a,\"is greater\")\n",
        "else:\n",
        "  print(b,\"is greater\")"
      ]
    },
    {
      "cell_type": "code",
      "execution_count": null,
      "metadata": {
        "colab": {
          "base_uri": "https://localhost:8080/"
        },
        "id": "98tibS4YYydB",
        "outputId": "11bb5fd1-d3ae-46e2-94b9-4545965a3de5"
      },
      "outputs": [
        {
          "name": "stdout",
          "output_type": "stream",
          "text": [
            "Program to print quotient and remainder:\n",
            "Enter a number:32\n",
            "Enter a number to divide it with:6\n",
            "5 is the quotient 2 is the remainder\n"
          ]
        }
      ],
      "source": [
        "print(\"Program to print quotient and remainder:\")\n",
        "n =int(input(\"Enter a number:\"))\n",
        "a=int(input(\"Enter a number to divide it with:\"))\n",
        "d=n//a\n",
        "r=n%a\n",
        "print(d,\"is the quotient\",r,\"is the remainder\")"
      ]
    },
    {
      "cell_type": "code",
      "execution_count": null,
      "metadata": {
        "colab": {
          "base_uri": "https://localhost:8080/"
        },
        "id": "Ucz98-itZbYR",
        "outputId": "511df8e9-6b02-4e36-e933-8a7b50477266"
      },
      "outputs": [
        {
          "name": "stdout",
          "output_type": "stream",
          "text": [
            "Program to swap variable:\n",
            "Enter 1st number:6\n",
            "Enter 2nd number:8\n",
            "1st Number= 8.0 2nd Number= 6.0\n"
          ]
        }
      ],
      "source": [
        "print(\"Program to swap variable:\")\n",
        "n1=int(input(\"Enter 1st number:\"))\n",
        "n2=int(input(\"Enter 2nd number:\"))\n",
        "n1=n1*n2\n",
        "n2=n1/n2\n",
        "n1=n1/n2\n",
        "print(\"1st Number=\",n1,\"2nd Number=\",n2)"
      ]
    },
    {
      "cell_type": "code",
      "execution_count": null,
      "metadata": {
        "colab": {
          "base_uri": "https://localhost:8080/"
        },
        "id": "PQIcuEP8a0vB",
        "outputId": "07b3f72e-74ef-40b8-bd7d-a0b5611896e1"
      },
      "outputs": [
        {
          "name": "stdout",
          "output_type": "stream",
          "text": [
            "Program to print the values of AP.\n",
            "Enter the number of elements:7\n",
            "Enter the value of a:3\n",
            "Enter the value of d:2\n",
            "3\n",
            "5\n",
            "7\n",
            "9\n",
            "11\n",
            "13\n",
            "15\n"
          ]
        }
      ],
      "source": [
        "print(\"Program to print the values of AP.\")\n",
        "n=int(input(\"Enter the number of elements:\"))\n",
        "a=int(input(\"Enter the value of a:\"))\n",
        "d=int(input(\"Enter the value of d:\"))\n",
        "b=1;\n",
        "while(n>=b):\n",
        "  s=a+((b-1)*d)\n",
        "  print(s)\n",
        "  b=b+1\n",
        "\n"
      ]
    },
    {
      "cell_type": "code",
      "execution_count": null,
      "metadata": {
        "colab": {
          "base_uri": "https://localhost:8080/"
        },
        "id": "WalRaBskH1YC",
        "outputId": "d2422d14-f7d9-4f51-b8bc-7bbcd31f14da"
      },
      "outputs": [
        {
          "name": "stdout",
          "output_type": "stream",
          "text": [
            "Program to accept number of days and convert into years months and weeks \n",
            "Enter the number of days:669\n",
            "Number of years: 1 Numbers of months: 10 Number of days: 4\n"
          ]
        }
      ],
      "source": [
        "print(\"Program to accept number of days and convert into years months and weeks \")\n",
        "n=int(input(\"Enter the number of days:\"))\n",
        "year=n//365\n",
        "a=n%365;\n",
        "months=a//30\n",
        "days=a%30\n",
        "print(\"Number of years:\",year,\"Numbers of months:\",months,\"Number of days:\",days)"
      ]
    },
    {
      "cell_type": "code",
      "execution_count": null,
      "metadata": {
        "colab": {
          "base_uri": "https://localhost:8080/"
        },
        "id": "jnlfSOiJJMwR",
        "outputId": "a13ef6aa-5112-45f1-a190-35621a814692"
      },
      "outputs": [
        {
          "name": "stdout",
          "output_type": "stream",
          "text": [
            "Program to convert seconds into hours mins and seconds:\n",
            "Enter the time:3669\n",
            "The time  3669 seconds is 1 hours 1 minutes 9 seconds\n"
          ]
        }
      ],
      "source": [
        "print(\"Program to convert seconds into hours mins and seconds:\")\n",
        "a=int(input(\"Enter the time:\"))\n",
        "sec=a%60\n",
        "hour=a//3600\n",
        "b=a%3600\n",
        "min=b//60\n",
        "print(\"The time \",a,\"seconds is\",hour,\"hours\",min,\"minutes\",sec,\"seconds\")\n"
      ]
    },
    {
      "cell_type": "code",
      "execution_count": null,
      "metadata": {
        "colab": {
          "base_uri": "https://localhost:8080/"
        },
        "id": "26cGEjtZAE0Q",
        "outputId": "063d7e19-ef61-4a93-bbdc-bab94821548b"
      },
      "outputs": [
        {
          "name": "stdout",
          "output_type": "stream",
          "text": [
            "Enter the number of elements in the list:3\n",
            "Enter  3  Elements:\n",
            "ieh\n",
            "ofoe\n",
            "keeej\n",
            "['keeej', 'ofoe', 'ieh']\n"
          ]
        }
      ],
      "source": [
        "n =int(input(\"Enter the number of elements in the list:\"))\n",
        "list1=[]\n",
        "print(\"Enter \",n,\" Elements:\")\n",
        "for i in range(0,n,1):\n",
        "  s=input()\n",
        "  list1.append(s)\n",
        "list1.reverse()\n",
        "print(list1)"
      ]
    },
    {
      "cell_type": "code",
      "execution_count": null,
      "metadata": {
        "colab": {
          "base_uri": "https://localhost:8080/"
        },
        "id": "uItZUo1jCv4K",
        "outputId": "5defb541-8026-4992-d56b-ae8a22b8a6c1"
      },
      "outputs": [
        {
          "name": "stdout",
          "output_type": "stream",
          "text": [
            "Enter the number of elements in the first list:2\n",
            "Enter  2  Elements:\n",
            "djf\n",
            "deif\n",
            "Enter the number of elements in the second list:1\n",
            "Enter  1  Elements:\n",
            "dlkf\n",
            "['djf', 'deif', 'dlkf']\n"
          ]
        }
      ],
      "source": [
        "n1 =int(input(\"Enter the number of elements in the first list:\"))\n",
        "lista=[]\n",
        "print(\"Enter \",n1,\" Elements:\")\n",
        "for i in range(0,n1,1):\n",
        "  s1=input()\n",
        "  lista.append(s1)\n",
        "n2 =int(input(\"Enter the number of elements in the second list:\"))\n",
        "listb=[]\n",
        "print(\"Enter \",n2,\" Elements:\")\n",
        "for i in range(0,n2,1):\n",
        "  s2=input()\n",
        "  listb.append(s2)\n",
        "lista.extend(listb)\n",
        "print(lista)"
      ]
    },
    {
      "cell_type": "code",
      "execution_count": null,
      "metadata": {
        "colab": {
          "base_uri": "https://localhost:8080/"
        },
        "id": "-wrVY52aGnya",
        "outputId": "1f2c04f2-c0c4-4315-c6ec-2fe103899234"
      },
      "outputs": [
        {
          "name": "stdout",
          "output_type": "stream",
          "text": [
            "[1, 4, 9, 16, 25, 36, 49, 64, 81, 100]\n"
          ]
        }
      ],
      "source": [
        "list1=[1,2,3,4,5,6,7,8,9,10]\n",
        "for i in range(0,10,1):\n",
        "  list1[i]=list1[i]*list1[i]\n",
        "print(list1)"
      ]
    },
    {
      "cell_type": "code",
      "execution_count": null,
      "metadata": {
        "colab": {
          "base_uri": "https://localhost:8080/"
        },
        "id": "RxdPH0uXHJnD",
        "outputId": "15009b3f-f8c8-4b86-9120-af6ff38ebe4c"
      },
      "outputs": [
        {
          "name": "stdout",
          "output_type": "stream",
          "text": [
            "Enter the number of elements in the list:6\n",
            "Enter  6  Elements:\n",
            "\n",
            "dfhgfh\n",
            "fdhfh\n",
            "fgf\n",
            "\n",
            "\n",
            "{'', 'dfhgfh', 'fgf', 'fdhfh'}\n"
          ]
        }
      ],
      "source": [
        "n =int(input(\"Enter the number of elements in the list:\"))\n",
        "list1=[]\n",
        "print(\"Enter \",n,\" Elements:\")\n",
        "for i in range(0,n,1):\n",
        "  s=input()\n",
        "  list1.append(s)\n",
        "set1=set(list1)\n",
        "print(set1)"
      ]
    },
    {
      "cell_type": "code",
      "execution_count": null,
      "metadata": {
        "colab": {
          "base_uri": "https://localhost:8080/"
        },
        "id": "FNnSZD85I3Tb",
        "outputId": "972032cc-7ffe-4e86-9d2b-99e83ce9daa1"
      },
      "outputs": [
        {
          "name": "stdout",
          "output_type": "stream",
          "text": [
            "[0, 1, 4, 9, 16, 25, 36, 49, 64, 81, 100]\n"
          ]
        }
      ],
      "source": [
        "list1=[x*x for x in range(0,11)]\n",
        "print(list1)"
      ]
    },
    {
      "cell_type": "code",
      "execution_count": null,
      "metadata": {
        "colab": {
          "base_uri": "https://localhost:8080/"
        },
        "id": "XXVzauH4vlw4",
        "outputId": "434a9dd7-61d2-4614-a182-6870691c6bee"
      },
      "outputs": [
        {
          "name": "stdout",
          "output_type": "stream",
          "text": [
            "Enter a list of strings separated by commas: jhgdsf, ,jsef,,,,kef,     ,hgwev\n",
            "The list after removing empty strings: ['jhgdsf', 'jsef', 'kef', 'hgwev']\n"
          ]
        }
      ],
      "source": [
        "new_list = []\n",
        "my_list = input(\"Enter a list of strings separated by commas: \").split(',')\n",
        "for s in my_list:\n",
        "    if s.strip():\n",
        "        new_list.append(s)\n",
        "print(\"The list after removing empty strings:\", new_list)\n"
      ]
    },
    {
      "cell_type": "code",
      "execution_count": null,
      "metadata": {
        "colab": {
          "base_uri": "https://localhost:8080/"
        },
        "id": "lyKwWWL3wmJh",
        "outputId": "c67c8e91-f379-4ab4-8502-74633f01242d"
      },
      "outputs": [
        {
          "output_type": "stream",
          "name": "stdout",
          "text": [
            "Enter a list of integers seperated by commas:22,23,44,11,9\n",
            "Enter the number to be replaced:9\n",
            "[22, 23, 44, 11, 81]\n"
          ]
        }
      ],
      "source": [
        "list1=input(\"Enter a list of integers seperated by commas:\").split(',')\n",
        "list1=[int(x) for x in list1]\n",
        "n=int(input(\"Enter the number to be replaced:\"))\n",
        "i=list1.index(n)\n",
        "list1[i]=list1[i]*list1[i]\n",
        "print(list1)"
      ]
    },
    {
      "cell_type": "code",
      "execution_count": null,
      "metadata": {
        "colab": {
          "base_uri": "https://localhost:8080/"
        },
        "id": "owyAs16EHzMD",
        "outputId": "309a76c8-ae1e-4d83-f45f-f7069ac24136"
      },
      "outputs": [
        {
          "name": "stdout",
          "output_type": "stream",
          "text": [
            "Enter the list of strings seperated by commas:lkjgr lrkg rkgh krjng\n",
            "Enter the string to be compeletely removed:lrkg\n",
            "['lkjgr', 'rkgh', 'krjng']\n"
          ]
        }
      ],
      "source": [
        "list1=input(\"Enter the list of strings seperated by commas:\").split(',')\n",
        "list2=[]\n",
        "st=input(\"Enter the string to be compeletely removed:\")\n",
        "for s in list1:\n",
        "  if(s!=st):\n",
        "    list2.append(s)\n",
        "print(list2)\n"
      ]
    },
    {
      "cell_type": "code",
      "source": [],
      "metadata": {
        "id": "c3qCm6Vs3cif"
      },
      "execution_count": null,
      "outputs": []
    },
    {
      "cell_type": "markdown",
      "source": [
        "\n",
        "\n",
        "```\n",
        "# This is formatted as code\n",
        "```\n",
        "\n",
        "1. Create a tuple with different with different data type and reverse it.\n",
        "\n",
        "2. Count number of occurances of an item from a tuple.\n",
        "3. Unpack a tuple into seperate variables.\n",
        "4. Find element wise sum of a tuple.\n",
        "5. Convert a tuple to dictionary.\n",
        "6. Remove and item from a set if it is present.\n",
        "7. Create intersection of sets.\n",
        "8. Find minimum and maximum values in a set.\n",
        "9. Check if 2 given sets have no elemnts in common.\n",
        "10. Sort a dictionary by value.\n",
        "11. Concatitante 2 dictionary to create a new one.\n",
        "12. Print a dictionary where the keys are in a range of 10-20 and values are the squares of these keys.\n",
        "13. Remove duplicates from dictionary. \n",
        "14. Create a dictionary from a string.\n",
        "15. \n"
      ],
      "metadata": {
        "id": "5U9nSg7__taS"
      }
    },
    {
      "cell_type": "code",
      "source": [
        "t=(\"iajs\",22,'d',22.99,)\n",
        "rev=t[::-1]\n",
        "print(rev)"
      ],
      "metadata": {
        "colab": {
          "base_uri": "https://localhost:8080/"
        },
        "id": "Bwi9i3xO8mfr",
        "outputId": "e3c781aa-d5d7-4501-886d-3441b475422b"
      },
      "execution_count": null,
      "outputs": [
        {
          "output_type": "stream",
          "name": "stdout",
          "text": [
            "(22.99, 'd', 22, 'iajs')\n"
          ]
        }
      ]
    },
    {
      "cell_type": "code",
      "source": [
        "tup=tuple(input(\"Enter elements seperated by , : \").split(','))\n",
        "i=(input(\"Enter the element for which the count is to be printed : \"))\n",
        "c=tup.count(i)\n",
        "print(\"The count = \",c)"
      ],
      "metadata": {
        "colab": {
          "base_uri": "https://localhost:8080/"
        },
        "id": "E9KfrbiY9N6r",
        "outputId": "03f0ca32-a621-4a52-d2a0-9fc612d5c385"
      },
      "execution_count": null,
      "outputs": [
        {
          "output_type": "stream",
          "name": "stdout",
          "text": [
            "Enter elements seperated by , : 1, 2,3 34,4,3,3,3,8\n",
            "Enter the element for which the count is to be printed : 3\n",
            "The count =  3\n"
          ]
        }
      ]
    },
    {
      "cell_type": "code",
      "source": [
        "tup=(1,2,3)\n",
        "x,y,z=tup\n",
        "print(x,y,z)"
      ],
      "metadata": {
        "colab": {
          "base_uri": "https://localhost:8080/"
        },
        "id": "V7KGamJD-hX0",
        "outputId": "e7ba6b28-8490-4388-ca09-42a028495bad"
      },
      "execution_count": null,
      "outputs": [
        {
          "output_type": "stream",
          "name": "stdout",
          "text": [
            "1 2 3\n"
          ]
        }
      ]
    },
    {
      "cell_type": "code",
      "source": [
        "t1 = (int(x) for x in input(\"Enter elements of the first separated by spaces: \").split())\n",
        "t2 = (int(y) for y in input(\"Enter elements of the second separated by spaces: \").split())\n",
        "sume = tuple(x + y for x, y in zip(t1, t2))\n",
        "print(\"Sum = \",sume)\n"
      ],
      "metadata": {
        "colab": {
          "base_uri": "https://localhost:8080/"
        },
        "id": "i2VtbF5o-ocO",
        "outputId": "3b29bc2c-cade-49eb-bf38-6c70cf35d648"
      },
      "execution_count": null,
      "outputs": [
        {
          "output_type": "stream",
          "name": "stdout",
          "text": [
            "Enter elements of the first separated by spaces: 1 2 3\n",
            "Enter elements of the second separated by spaces: 4 5 6\n",
            "Sum =  (5, 7, 9)\n"
          ]
        }
      ]
    },
    {
      "cell_type": "code",
      "source": [
        "tup=((1,2),(3,4),(5,6))\n",
        "dic=dict(tup)\n",
        "print(dic)"
      ],
      "metadata": {
        "colab": {
          "base_uri": "https://localhost:8080/"
        },
        "id": "PQDEDlOWJpNw",
        "outputId": "9ac981a8-be5e-404e-b724-39f0022273e0"
      },
      "execution_count": null,
      "outputs": [
        {
          "output_type": "stream",
          "name": "stdout",
          "text": [
            "{1: 2, 3: 4, 5: 6}\n"
          ]
        }
      ]
    },
    {
      "cell_type": "code",
      "source": [],
      "metadata": {
        "id": "0yHQz1e0Ml8i"
      },
      "execution_count": null,
      "outputs": []
    },
    {
      "cell_type": "code",
      "source": [
        "x=[1,2,3,4]\n",
        "y=[z*z for z in x ]\n",
        "print (y)"
      ],
      "metadata": {
        "colab": {
          "base_uri": "https://localhost:8080/"
        },
        "id": "d2rTRNTFDcte",
        "outputId": "6e51203e-ee38-4c4b-d00a-5e7c7cbb0f5d"
      },
      "execution_count": null,
      "outputs": [
        {
          "output_type": "stream",
          "name": "stdout",
          "text": [
            "[1, 4, 9, 16]\n"
          ]
        }
      ]
    },
    {
      "cell_type": "code",
      "source": [
        "x=[1,2,3,4,5,6,7,8,9,10]\n",
        "y=[]\n",
        "for i in x:\n",
        "  if i%2==0:\n",
        "    y.append(i*i)\n",
        "  else:\n",
        "    y.append(i)\n",
        "print (y)"
      ],
      "metadata": {
        "colab": {
          "base_uri": "https://localhost:8080/"
        },
        "id": "l9CrbkeGEfD3",
        "outputId": "80381992-964e-46d7-e234-713f0614bba9"
      },
      "execution_count": null,
      "outputs": [
        {
          "output_type": "stream",
          "name": "stdout",
          "text": [
            "[1, 4, 3, 16, 5, 36, 7, 64, 9, 100]\n"
          ]
        }
      ]
    },
    {
      "cell_type": "code",
      "source": [
        "x=[1,2,3,4,5,6,7,8,9,10]\n",
        "y=[z*z*z if(z%3==0) else z*z if(z%2==0) else z for z in x]\n",
        "print (y)"
      ],
      "metadata": {
        "colab": {
          "base_uri": "https://localhost:8080/"
        },
        "id": "Nb0xtqg0IsAv",
        "outputId": "70a5abd7-d70c-4fd6-c554-a899b1d9af84"
      },
      "execution_count": null,
      "outputs": [
        {
          "output_type": "stream",
          "name": "stdout",
          "text": [
            "[1, 4, 27, 16, 5, 216, 7, 64, 729, 100]\n"
          ]
        }
      ]
    },
    {
      "cell_type": "code",
      "source": [
        "x=[1,2,3,4,5,6,7,8,9,10,11,12,13,14,15]\n",
        "y=[z*z*z*z*z if(z%5==0)else z*z*z if(z%3==0)else z*z if(z%2==0)else z for z in x]\n",
        "print (y)"
      ],
      "metadata": {
        "colab": {
          "base_uri": "https://localhost:8080/"
        },
        "id": "J_bzjI7CI_4P",
        "outputId": "a0566278-0d91-40bb-83c4-fdbd57347249"
      },
      "execution_count": null,
      "outputs": [
        {
          "output_type": "stream",
          "name": "stdout",
          "text": [
            "[1, 4, 27, 16, 3125, 216, 7, 64, 729, 100000, 11, 1728, 13, 196, 759375]\n"
          ]
        }
      ]
    }
  ],
  "metadata": {
    "colab": {
      "provenance": [],
      "authorship_tag": "ABX9TyO7MEqAjkdobaxSjUI07nap",
      "include_colab_link": true
    },
    "kernelspec": {
      "display_name": "Python 3",
      "name": "python3"
    },
    "language_info": {
      "name": "python"
    }
  },
  "nbformat": 4,
  "nbformat_minor": 0
}